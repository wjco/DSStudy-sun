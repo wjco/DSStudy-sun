{
 "cells": [
  {
   "cell_type": "code",
   "execution_count": null,
   "metadata": {
    "_cell_guid": "b1076dfc-b9ad-4769-8c92-a6c4dae69d19",
    "_uuid": "8f2839f25d086af736a60e9eeb907d3b93b6e0e5"
   },
   "outputs": [],
   "source": [
    "# This Python 3 environment comes with many helpful analytics libraries installed\n",
    "# It is defined by the kaggle/python Docker image: https://github.com/kaggle/docker-python\n",
    "# For example, here's several helpful packages to load\n",
    "\n",
    "import numpy as np # linear algebra\n",
    "import pandas as pd # data processing, CSV file I/O (e.g. pd.read_csv)\n",
    "\n",
    "# Input data files are available in the read-only \"../input/\" directory\n",
    "# For example, running this (by clicking run or pressing Shift+Enter) will list all files under the input directory\n",
    "\n",
    "import os\n",
    "for dirname, _, filenames in os.walk('/kaggle/input'):\n",
    "    for filename in filenames:\n",
    "        print(os.path.join(dirname, filename))\n",
    "\n",
    "# You can write up to 20GB to the current directory (/kaggle/working/) that gets preserved as output when you create a version using \"Save & Run All\" \n",
    "# You can also write temporary files to /kaggle/temp/, but they won't be saved outside of the current session"
   ]
  },
  {
   "cell_type": "code",
   "execution_count": 1,
   "metadata": {
    "execution": {
     "iopub.execute_input": "2023-10-28T14:15:12.006923Z",
     "iopub.status.busy": "2023-10-28T14:15:12.006031Z",
     "iopub.status.idle": "2023-10-28T14:15:12.036598Z",
     "shell.execute_reply": "2023-10-28T14:15:12.035384Z",
     "shell.execute_reply.started": "2023-10-28T14:15:12.006885Z"
    }
   },
   "outputs": [
    {
     "name": "stdout",
     "output_type": "stream",
     "text": [
      "3.10.12 | packaged by conda-forge | (main, Jun 23 2023, 22:40:32) [GCC 12.3.0]\n"
     ]
    }
   ],
   "source": [
    "import sys\n",
    "print(sys.version)"
   ]
  },
  {
   "cell_type": "code",
   "execution_count": 3,
   "metadata": {
    "execution": {
     "iopub.execute_input": "2023-10-28T15:13:33.692967Z",
     "iopub.status.busy": "2023-10-28T15:13:33.692034Z",
     "iopub.status.idle": "2023-10-28T15:13:33.701706Z",
     "shell.execute_reply": "2023-10-28T15:13:33.700488Z",
     "shell.execute_reply.started": "2023-10-28T15:13:33.692916Z"
    }
   },
   "outputs": [],
   "source": [
    "import numpy as np\n",
    "import pandas as pd\n",
    "import seaborn as sns\n",
    "import matplotlib as mpl\n",
    "import matplotlib.pyplot as plt\n",
    "import sklearn, scipy#missingno, lightgbm, xgboost\n",
    "%matplotlib inline"
   ]
  },
  {
   "cell_type": "markdown",
   "metadata": {},
   "source": [
    "# 문제 이해\n",
    "## 제목 : Spotify Popularity Prediction\n",
    "## 미션 : \n",
    "## 문제유형 : 회귀 분석\n",
    "## 평가지표 : RMSE=np.sqrt(1/𝑁∗∑(-1**𝑁*(𝑌_𝑖 − Y_hat_𝑖)**2)"
   ]
  },
  {
   "cell_type": "markdown",
   "metadata": {},
   "source": [
    "* id: Spotify 데이터베이스의 노래 식별자\n",
    "* artists: 아티스트 이름\n",
    "* name: 노래 이름\n",
    "* year: 출시 연도\n",
    "* release_date: 연-월-일로 인코딩된 노래 출시 날짜입니다. 그러나 모든 노래에 완전한 정보가 있는 것은 아니므로 예를 들어 연도만 포함할 수도 있습니다.\n",
    "* acousticness: 0에서 1 사이로, 음악의 음향 (반주구간) 정도를 나타냅니다.\n",
    "* danceability: 0에서 1 사이의 값으로, 노래가 얼마나 춤추는지 나타냅니다.\n",
    "* duration_ms: 밀리초 단위의 기간입니다.\n",
    "* energy: 0과 1 사이의 음악이 얼마나 에너지 넘치는지 나타냅니다.\n",
    "* explicit: 노래에 노골적인 내용의 가사가 포함되어 있으면 1, 그렇지 않으면 0입니다.\n",
    "* instrumentalness: 0에서 1 사이, 노래가 얼마나 중요한지 나타냅니다.\n",
    "* key: 여기에 매핑된 노래 톤.\n",
    "* liveness: 0과 1 사이, 노래가 얼마나 \"라이브\"되는지\n",
    "* loudness: 음악의 크기를 나타냅니다. 값은 일반적으로 음악의 데시벨 수를 나타내는 -60에서 0 사이입니다.\n",
    "* mode: 노래가 장조이면 1, 단조이면 0입니다. 일반적으로 장조의 노래는 행복한 노래로 간주되는 반면 단조의 노래는 더 슬픈 노래로 간주됩니다.\n",
    "* speechiness: 0에서 1 사이, 노래가 얼마나 발성/발성되는지(육성으로 노래하는 시간)를 나타냅니다.\n",
    "* tempo: BPM(분당 비트 수)으로 표시되는 노래 템포\n",
    "* valence: 0과 1 사이로 노래의 긍정성을 설명하며, 긍정적인 노래(행복, 즐거운, 행복감 등)에 대한 높은 값과 부정적인 노래(슬픔, 분노 등)에 대한 낮은 값으로 나타냅니다.\n",
    "* popularity: 0에서 100 사이의 노래 인기도입니다. 이 세트에서는 이것이 목표 변수입니다."
   ]
  },
  {
   "cell_type": "markdown",
   "metadata": {},
   "source": [
    "인기도와 뭘 비교할까..."
   ]
  },
  {
   "cell_type": "markdown",
   "metadata": {},
   "source": [
    "# EDA\n",
    "## 데이터 둘러보기(구조 탐색)\n",
    "- 파일별 용도 파악\n",
    "- 데이터 양(레코드 수, 피처 수, 전체 용량 등)\n",
    "- 피처 이해(이름, 의미, 데이터 타입, 결측값 개수, 고윳값 개수, 실제값, 데이터 종류 등)\n",
    "- 훈련 데이터와 테스트 데이터 차이\n",
    "- 타깃값 : 제출(예측)해야 하는 값\n",
    "## 데이터 시각화\n",
    "- 각종 시각화\n",
    "    - 수치 데이터시각화\n",
    "    - 범주형 데이터 시각화\n",
    "    - 데이터 관계 시각화\n",
    "- 피처 파악\n",
    "    - 추가할 피처\n",
    "    - 제거할 피처\n",
    "    - 피처별 인코딩 전략\n",
    "- 이상치 파악\n",
    "    - 해당 피처별 처리 방법\n",
    "    - 결과물 :추가/제거 피처 목록, 인코딩 전략, 이상치 처리 전략"
   ]
  },
  {
   "cell_type": "code",
   "execution_count": 6,
   "metadata": {
    "execution": {
     "iopub.execute_input": "2023-10-28T14:59:17.249197Z",
     "iopub.status.busy": "2023-10-28T14:59:17.248752Z",
     "iopub.status.idle": "2023-10-28T14:59:18.168603Z",
     "shell.execute_reply": "2023-10-28T14:59:18.167372Z",
     "shell.execute_reply.started": "2023-10-28T14:59:17.249164Z"
    }
   },
   "outputs": [],
   "source": [
    "data_path = \"/Users/potatodev/Documents/code/DSStudy-sun/jihee/23.10.29./\"\n",
    "\n",
    "train = pd.read_csv(data_path + 'train.csv')\n",
    "test = pd.read_csv(data_path + 'test.csv')"
   ]
  },
  {
   "cell_type": "code",
   "execution_count": 36,
   "metadata": {
    "execution": {
     "iopub.execute_input": "2023-10-28T14:59:18.171621Z",
     "iopub.status.busy": "2023-10-28T14:59:18.170927Z",
     "iopub.status.idle": "2023-10-28T14:59:18.195230Z",
     "shell.execute_reply": "2023-10-28T14:59:18.194177Z",
     "shell.execute_reply.started": "2023-10-28T14:59:18.171584Z"
    }
   },
   "outputs": [
    {
     "data": {
      "text/html": [
       "<div>\n",
       "<style scoped>\n",
       "    .dataframe tbody tr th:only-of-type {\n",
       "        vertical-align: middle;\n",
       "    }\n",
       "\n",
       "    .dataframe tbody tr th {\n",
       "        vertical-align: top;\n",
       "    }\n",
       "\n",
       "    .dataframe thead th {\n",
       "        text-align: right;\n",
       "    }\n",
       "</style>\n",
       "<table border=\"1\" class=\"dataframe\">\n",
       "  <thead>\n",
       "    <tr style=\"text-align: right;\">\n",
       "      <th></th>\n",
       "      <th>id</th>\n",
       "      <th>artists</th>\n",
       "      <th>name</th>\n",
       "      <th>year</th>\n",
       "      <th>acousticness</th>\n",
       "      <th>danceability</th>\n",
       "      <th>duration_ms</th>\n",
       "      <th>energy</th>\n",
       "      <th>explicit</th>\n",
       "      <th>instrumentalness</th>\n",
       "      <th>key</th>\n",
       "      <th>liveness</th>\n",
       "      <th>loudness</th>\n",
       "      <th>mode</th>\n",
       "      <th>release_date</th>\n",
       "      <th>speechiness</th>\n",
       "      <th>tempo</th>\n",
       "      <th>valence</th>\n",
       "      <th>popularity</th>\n",
       "    </tr>\n",
       "  </thead>\n",
       "  <tbody>\n",
       "    <tr>\n",
       "      <th>0</th>\n",
       "      <td>7pQSmQ0l7QdBeL9X6CEMbH</td>\n",
       "      <td>['Erroll Garner']</td>\n",
       "      <td>I'll Remember April - Original Edited Concert ...</td>\n",
       "      <td>1955</td>\n",
       "      <td>0.92300</td>\n",
       "      <td>0.438</td>\n",
       "      <td>257693</td>\n",
       "      <td>0.602</td>\n",
       "      <td>0</td>\n",
       "      <td>0.658000</td>\n",
       "      <td>8</td>\n",
       "      <td>0.9500</td>\n",
       "      <td>-14.565</td>\n",
       "      <td>1</td>\n",
       "      <td>1955</td>\n",
       "      <td>0.0408</td>\n",
       "      <td>122.289</td>\n",
       "      <td>0.546</td>\n",
       "      <td>24</td>\n",
       "    </tr>\n",
       "    <tr>\n",
       "      <th>1</th>\n",
       "      <td>2g8MTBFRUSFKbY5RQiSSEE</td>\n",
       "      <td>['Maison &amp; Dragen']</td>\n",
       "      <td>Chinese New Year - Radio Edit</td>\n",
       "      <td>2014</td>\n",
       "      <td>0.00019</td>\n",
       "      <td>0.477</td>\n",
       "      <td>193968</td>\n",
       "      <td>0.834</td>\n",
       "      <td>0</td>\n",
       "      <td>0.978000</td>\n",
       "      <td>4</td>\n",
       "      <td>0.3960</td>\n",
       "      <td>-6.534</td>\n",
       "      <td>0</td>\n",
       "      <td>2014-05-02</td>\n",
       "      <td>0.0396</td>\n",
       "      <td>130.007</td>\n",
       "      <td>0.516</td>\n",
       "      <td>0</td>\n",
       "    </tr>\n",
       "    <tr>\n",
       "      <th>2</th>\n",
       "      <td>2LcJoQ5SDUZrC2qUjWMEdF</td>\n",
       "      <td>['Yoel Lerner', 'Mazi Cohen']</td>\n",
       "      <td>השפן הקטן</td>\n",
       "      <td>1981</td>\n",
       "      <td>0.90000</td>\n",
       "      <td>0.617</td>\n",
       "      <td>56827</td>\n",
       "      <td>0.272</td>\n",
       "      <td>0</td>\n",
       "      <td>0.000000</td>\n",
       "      <td>7</td>\n",
       "      <td>0.0879</td>\n",
       "      <td>-16.818</td>\n",
       "      <td>1</td>\n",
       "      <td>1981-04-01</td>\n",
       "      <td>0.0577</td>\n",
       "      <td>83.244</td>\n",
       "      <td>0.807</td>\n",
       "      <td>38</td>\n",
       "    </tr>\n",
       "    <tr>\n",
       "      <th>3</th>\n",
       "      <td>6RzHyUtRNARYyn2AIuoLnY</td>\n",
       "      <td>['Barbra Streisand']</td>\n",
       "      <td>Run Wild</td>\n",
       "      <td>1980</td>\n",
       "      <td>0.29400</td>\n",
       "      <td>0.377</td>\n",
       "      <td>247467</td>\n",
       "      <td>0.269</td>\n",
       "      <td>0</td>\n",
       "      <td>0.000478</td>\n",
       "      <td>4</td>\n",
       "      <td>0.1440</td>\n",
       "      <td>-16.766</td>\n",
       "      <td>1</td>\n",
       "      <td>1980-09-23</td>\n",
       "      <td>0.0268</td>\n",
       "      <td>82.302</td>\n",
       "      <td>0.196</td>\n",
       "      <td>40</td>\n",
       "    </tr>\n",
       "    <tr>\n",
       "      <th>4</th>\n",
       "      <td>6Kd0I5es8911FZpYhFS053</td>\n",
       "      <td>['Willie Nelson']</td>\n",
       "      <td>Till I Gain Control Again - Live</td>\n",
       "      <td>1975</td>\n",
       "      <td>0.49400</td>\n",
       "      <td>0.501</td>\n",
       "      <td>351560</td>\n",
       "      <td>0.218</td>\n",
       "      <td>0</td>\n",
       "      <td>0.008110</td>\n",
       "      <td>0</td>\n",
       "      <td>0.2970</td>\n",
       "      <td>-13.045</td>\n",
       "      <td>1</td>\n",
       "      <td>1975</td>\n",
       "      <td>0.0283</td>\n",
       "      <td>77.854</td>\n",
       "      <td>0.239</td>\n",
       "      <td>20</td>\n",
       "    </tr>\n",
       "  </tbody>\n",
       "</table>\n",
       "</div>"
      ],
      "text/plain": [
       "                       id                        artists  \\\n",
       "0  7pQSmQ0l7QdBeL9X6CEMbH              ['Erroll Garner']   \n",
       "1  2g8MTBFRUSFKbY5RQiSSEE            ['Maison & Dragen']   \n",
       "2  2LcJoQ5SDUZrC2qUjWMEdF  ['Yoel Lerner', 'Mazi Cohen']   \n",
       "3  6RzHyUtRNARYyn2AIuoLnY           ['Barbra Streisand']   \n",
       "4  6Kd0I5es8911FZpYhFS053              ['Willie Nelson']   \n",
       "\n",
       "                                                name  year  acousticness  \\\n",
       "0  I'll Remember April - Original Edited Concert ...  1955       0.92300   \n",
       "1                      Chinese New Year - Radio Edit  2014       0.00019   \n",
       "2                                          השפן הקטן  1981       0.90000   \n",
       "3                                           Run Wild  1980       0.29400   \n",
       "4                   Till I Gain Control Again - Live  1975       0.49400   \n",
       "\n",
       "   danceability  duration_ms  energy  explicit  instrumentalness  key  \\\n",
       "0         0.438       257693   0.602         0          0.658000    8   \n",
       "1         0.477       193968   0.834         0          0.978000    4   \n",
       "2         0.617        56827   0.272         0          0.000000    7   \n",
       "3         0.377       247467   0.269         0          0.000478    4   \n",
       "4         0.501       351560   0.218         0          0.008110    0   \n",
       "\n",
       "   liveness  loudness  mode release_date  speechiness    tempo  valence  \\\n",
       "0    0.9500   -14.565     1         1955       0.0408  122.289    0.546   \n",
       "1    0.3960    -6.534     0   2014-05-02       0.0396  130.007    0.516   \n",
       "2    0.0879   -16.818     1   1981-04-01       0.0577   83.244    0.807   \n",
       "3    0.1440   -16.766     1   1980-09-23       0.0268   82.302    0.196   \n",
       "4    0.2970   -13.045     1         1975       0.0283   77.854    0.239   \n",
       "\n",
       "   popularity  \n",
       "0          24  \n",
       "1           0  \n",
       "2          38  \n",
       "3          40  \n",
       "4          20  "
      ]
     },
     "execution_count": 36,
     "metadata": {},
     "output_type": "execute_result"
    }
   ],
   "source": [
    "train.head()"
   ]
  },
  {
   "cell_type": "code",
   "execution_count": 7,
   "metadata": {
    "execution": {
     "iopub.execute_input": "2023-10-28T14:59:21.060990Z",
     "iopub.status.busy": "2023-10-28T14:59:21.060572Z",
     "iopub.status.idle": "2023-10-28T14:59:21.131658Z",
     "shell.execute_reply": "2023-10-28T14:59:21.130484Z",
     "shell.execute_reply.started": "2023-10-28T14:59:21.060957Z"
    }
   },
   "outputs": [
    {
     "name": "stdout",
     "output_type": "stream",
     "text": [
      "<class 'pandas.core.frame.DataFrame'>\n",
      "RangeIndex: 129172 entries, 0 to 129171\n",
      "Data columns (total 19 columns):\n",
      " #   Column            Non-Null Count   Dtype  \n",
      "---  ------            --------------   -----  \n",
      " 0   id                129172 non-null  object \n",
      " 1   artists           129172 non-null  object \n",
      " 2   name              129172 non-null  object \n",
      " 3   year              129172 non-null  int64  \n",
      " 4   acousticness      129172 non-null  float64\n",
      " 5   danceability      129172 non-null  float64\n",
      " 6   duration_ms       129172 non-null  int64  \n",
      " 7   energy            129172 non-null  float64\n",
      " 8   explicit          129172 non-null  int64  \n",
      " 9   instrumentalness  129172 non-null  float64\n",
      " 10  key               129172 non-null  int64  \n",
      " 11  liveness          129172 non-null  float64\n",
      " 12  loudness          129172 non-null  float64\n",
      " 13  mode              129172 non-null  int64  \n",
      " 14  release_date      129172 non-null  object \n",
      " 15  speechiness       129172 non-null  float64\n",
      " 16  tempo             129172 non-null  float64\n",
      " 17  valence           129172 non-null  float64\n",
      " 18  popularity        129172 non-null  int64  \n",
      "dtypes: float64(9), int64(6), object(4)\n",
      "memory usage: 18.7+ MB\n"
     ]
    }
   ],
   "source": [
    "train.info()"
   ]
  },
  {
   "cell_type": "code",
   "execution_count": 8,
   "metadata": {
    "execution": {
     "iopub.execute_input": "2023-10-28T14:59:26.393432Z",
     "iopub.status.busy": "2023-10-28T14:59:26.393005Z",
     "iopub.status.idle": "2023-10-28T14:59:26.405686Z",
     "shell.execute_reply": "2023-10-28T14:59:26.404708Z",
     "shell.execute_reply.started": "2023-10-28T14:59:26.393397Z"
    }
   },
   "outputs": [],
   "source": [
    "train = train.drop(['id', 'name', 'year'], axis = 1)"
   ]
  },
  {
   "cell_type": "code",
   "execution_count": 9,
   "metadata": {
    "execution": {
     "iopub.execute_input": "2023-10-28T15:03:30.045405Z",
     "iopub.status.busy": "2023-10-28T15:03:30.044985Z",
     "iopub.status.idle": "2023-10-28T15:03:30.147562Z",
     "shell.execute_reply": "2023-10-28T15:03:30.146342Z",
     "shell.execute_reply.started": "2023-10-28T15:03:30.045369Z"
    }
   },
   "outputs": [],
   "source": [
    "train = train[train['release_date'].str.len()>5]"
   ]
  },
  {
   "cell_type": "code",
   "execution_count": 10,
   "metadata": {
    "execution": {
     "iopub.execute_input": "2023-10-28T15:03:45.248605Z",
     "iopub.status.busy": "2023-10-28T15:03:45.248220Z",
     "iopub.status.idle": "2023-10-28T15:03:45.254755Z",
     "shell.execute_reply": "2023-10-28T15:03:45.253668Z",
     "shell.execute_reply.started": "2023-10-28T15:03:45.248575Z"
    }
   },
   "outputs": [
    {
     "name": "stdout",
     "output_type": "stream",
     "text": [
      "['2004', '03', '08']\n"
     ]
    }
   ],
   "source": [
    "print(train['release_date'][100].split()[0].split(\"-\"))"
   ]
  },
  {
   "cell_type": "code",
   "execution_count": 11,
   "metadata": {
    "execution": {
     "iopub.execute_input": "2023-10-28T15:03:49.154678Z",
     "iopub.status.busy": "2023-10-28T15:03:49.154225Z",
     "iopub.status.idle": "2023-10-28T15:03:49.405344Z",
     "shell.execute_reply": "2023-10-28T15:03:49.404075Z",
     "shell.execute_reply.started": "2023-10-28T15:03:49.154643Z"
    }
   },
   "outputs": [],
   "source": [
    "train['year'] = pd.DatetimeIndex(train['release_date']).year\n",
    "train['month'] = pd.DatetimeIndex(train['release_date']).month\n",
    "train['day'] = pd.DatetimeIndex(train['release_date']).day\n",
    "\n",
    "train = train.drop(['release_date'], axis = 1)"
   ]
  },
  {
   "cell_type": "code",
   "execution_count": 12,
   "metadata": {
    "execution": {
     "iopub.execute_input": "2023-10-28T15:03:54.162989Z",
     "iopub.status.busy": "2023-10-28T15:03:54.162572Z",
     "iopub.status.idle": "2023-10-28T15:03:54.188010Z",
     "shell.execute_reply": "2023-10-28T15:03:54.186628Z",
     "shell.execute_reply.started": "2023-10-28T15:03:54.162956Z"
    }
   },
   "outputs": [
    {
     "data": {
      "text/html": [
       "<div>\n",
       "<style scoped>\n",
       "    .dataframe tbody tr th:only-of-type {\n",
       "        vertical-align: middle;\n",
       "    }\n",
       "\n",
       "    .dataframe tbody tr th {\n",
       "        vertical-align: top;\n",
       "    }\n",
       "\n",
       "    .dataframe thead th {\n",
       "        text-align: right;\n",
       "    }\n",
       "</style>\n",
       "<table border=\"1\" class=\"dataframe\">\n",
       "  <thead>\n",
       "    <tr style=\"text-align: right;\">\n",
       "      <th></th>\n",
       "      <th>artists</th>\n",
       "      <th>acousticness</th>\n",
       "      <th>danceability</th>\n",
       "      <th>duration_ms</th>\n",
       "      <th>energy</th>\n",
       "      <th>explicit</th>\n",
       "      <th>instrumentalness</th>\n",
       "      <th>key</th>\n",
       "      <th>liveness</th>\n",
       "      <th>loudness</th>\n",
       "      <th>mode</th>\n",
       "      <th>speechiness</th>\n",
       "      <th>tempo</th>\n",
       "      <th>valence</th>\n",
       "      <th>popularity</th>\n",
       "      <th>year</th>\n",
       "      <th>month</th>\n",
       "      <th>day</th>\n",
       "    </tr>\n",
       "  </thead>\n",
       "  <tbody>\n",
       "    <tr>\n",
       "      <th>1</th>\n",
       "      <td>['Maison &amp; Dragen']</td>\n",
       "      <td>0.000190</td>\n",
       "      <td>0.477</td>\n",
       "      <td>193968</td>\n",
       "      <td>0.834</td>\n",
       "      <td>0</td>\n",
       "      <td>0.978000</td>\n",
       "      <td>4</td>\n",
       "      <td>0.3960</td>\n",
       "      <td>-6.534</td>\n",
       "      <td>0</td>\n",
       "      <td>0.0396</td>\n",
       "      <td>130.007</td>\n",
       "      <td>0.516</td>\n",
       "      <td>0</td>\n",
       "      <td>2014</td>\n",
       "      <td>5</td>\n",
       "      <td>2</td>\n",
       "    </tr>\n",
       "    <tr>\n",
       "      <th>2</th>\n",
       "      <td>['Yoel Lerner', 'Mazi Cohen']</td>\n",
       "      <td>0.900000</td>\n",
       "      <td>0.617</td>\n",
       "      <td>56827</td>\n",
       "      <td>0.272</td>\n",
       "      <td>0</td>\n",
       "      <td>0.000000</td>\n",
       "      <td>7</td>\n",
       "      <td>0.0879</td>\n",
       "      <td>-16.818</td>\n",
       "      <td>1</td>\n",
       "      <td>0.0577</td>\n",
       "      <td>83.244</td>\n",
       "      <td>0.807</td>\n",
       "      <td>38</td>\n",
       "      <td>1981</td>\n",
       "      <td>4</td>\n",
       "      <td>1</td>\n",
       "    </tr>\n",
       "    <tr>\n",
       "      <th>3</th>\n",
       "      <td>['Barbra Streisand']</td>\n",
       "      <td>0.294000</td>\n",
       "      <td>0.377</td>\n",
       "      <td>247467</td>\n",
       "      <td>0.269</td>\n",
       "      <td>0</td>\n",
       "      <td>0.000478</td>\n",
       "      <td>4</td>\n",
       "      <td>0.1440</td>\n",
       "      <td>-16.766</td>\n",
       "      <td>1</td>\n",
       "      <td>0.0268</td>\n",
       "      <td>82.302</td>\n",
       "      <td>0.196</td>\n",
       "      <td>40</td>\n",
       "      <td>1980</td>\n",
       "      <td>9</td>\n",
       "      <td>23</td>\n",
       "    </tr>\n",
       "    <tr>\n",
       "      <th>5</th>\n",
       "      <td>['Mladen Tomic']</td>\n",
       "      <td>0.000581</td>\n",
       "      <td>0.805</td>\n",
       "      <td>395050</td>\n",
       "      <td>0.663</td>\n",
       "      <td>0</td>\n",
       "      <td>0.927000</td>\n",
       "      <td>7</td>\n",
       "      <td>0.0715</td>\n",
       "      <td>-8.338</td>\n",
       "      <td>1</td>\n",
       "      <td>0.0635</td>\n",
       "      <td>127.008</td>\n",
       "      <td>0.111</td>\n",
       "      <td>0</td>\n",
       "      <td>2013</td>\n",
       "      <td>11</td>\n",
       "      <td>4</td>\n",
       "    </tr>\n",
       "    <tr>\n",
       "      <th>6</th>\n",
       "      <td>['Ramon Ayala Y Sus Bravos Del Norte']</td>\n",
       "      <td>0.453000</td>\n",
       "      <td>0.590</td>\n",
       "      <td>254027</td>\n",
       "      <td>0.722</td>\n",
       "      <td>0</td>\n",
       "      <td>0.000385</td>\n",
       "      <td>9</td>\n",
       "      <td>0.1110</td>\n",
       "      <td>-5.752</td>\n",
       "      <td>1</td>\n",
       "      <td>0.1670</td>\n",
       "      <td>150.744</td>\n",
       "      <td>0.401</td>\n",
       "      <td>47</td>\n",
       "      <td>2010</td>\n",
       "      <td>10</td>\n",
       "      <td>6</td>\n",
       "    </tr>\n",
       "  </tbody>\n",
       "</table>\n",
       "</div>"
      ],
      "text/plain": [
       "                                  artists  acousticness  danceability  \\\n",
       "1                     ['Maison & Dragen']      0.000190         0.477   \n",
       "2           ['Yoel Lerner', 'Mazi Cohen']      0.900000         0.617   \n",
       "3                    ['Barbra Streisand']      0.294000         0.377   \n",
       "5                        ['Mladen Tomic']      0.000581         0.805   \n",
       "6  ['Ramon Ayala Y Sus Bravos Del Norte']      0.453000         0.590   \n",
       "\n",
       "   duration_ms  energy  explicit  instrumentalness  key  liveness  loudness  \\\n",
       "1       193968   0.834         0          0.978000    4    0.3960    -6.534   \n",
       "2        56827   0.272         0          0.000000    7    0.0879   -16.818   \n",
       "3       247467   0.269         0          0.000478    4    0.1440   -16.766   \n",
       "5       395050   0.663         0          0.927000    7    0.0715    -8.338   \n",
       "6       254027   0.722         0          0.000385    9    0.1110    -5.752   \n",
       "\n",
       "   mode  speechiness    tempo  valence  popularity  year  month  day  \n",
       "1     0       0.0396  130.007    0.516           0  2014      5    2  \n",
       "2     1       0.0577   83.244    0.807          38  1981      4    1  \n",
       "3     1       0.0268   82.302    0.196          40  1980      9   23  \n",
       "5     1       0.0635  127.008    0.111           0  2013     11    4  \n",
       "6     1       0.1670  150.744    0.401          47  2010     10    6  "
      ]
     },
     "execution_count": 12,
     "metadata": {},
     "output_type": "execute_result"
    }
   ],
   "source": [
    "train.head()"
   ]
  },
  {
   "cell_type": "code",
   "execution_count": 13,
   "metadata": {},
   "outputs": [
    {
     "data": {
      "text/html": [
       "<div>\n",
       "<style scoped>\n",
       "    .dataframe tbody tr th:only-of-type {\n",
       "        vertical-align: middle;\n",
       "    }\n",
       "\n",
       "    .dataframe tbody tr th {\n",
       "        vertical-align: top;\n",
       "    }\n",
       "\n",
       "    .dataframe thead th {\n",
       "        text-align: right;\n",
       "    }\n",
       "</style>\n",
       "<table border=\"1\" class=\"dataframe\">\n",
       "  <thead>\n",
       "    <tr style=\"text-align: right;\">\n",
       "      <th></th>\n",
       "      <th>artists</th>\n",
       "      <th>acousticness</th>\n",
       "      <th>danceability</th>\n",
       "      <th>duration_ms</th>\n",
       "      <th>energy</th>\n",
       "      <th>explicit</th>\n",
       "      <th>instrumentalness</th>\n",
       "      <th>key</th>\n",
       "      <th>liveness</th>\n",
       "      <th>loudness</th>\n",
       "      <th>mode</th>\n",
       "      <th>speechiness</th>\n",
       "      <th>tempo</th>\n",
       "      <th>valence</th>\n",
       "      <th>popularity</th>\n",
       "      <th>year</th>\n",
       "      <th>month</th>\n",
       "      <th>day</th>\n",
       "      <th>season</th>\n",
       "    </tr>\n",
       "  </thead>\n",
       "  <tbody>\n",
       "    <tr>\n",
       "      <th>1</th>\n",
       "      <td>['Maison &amp; Dragen']</td>\n",
       "      <td>0.000190</td>\n",
       "      <td>0.477</td>\n",
       "      <td>193968</td>\n",
       "      <td>0.834</td>\n",
       "      <td>0</td>\n",
       "      <td>0.978000</td>\n",
       "      <td>4</td>\n",
       "      <td>0.3960</td>\n",
       "      <td>-6.534</td>\n",
       "      <td>0</td>\n",
       "      <td>0.0396</td>\n",
       "      <td>130.007</td>\n",
       "      <td>0.516</td>\n",
       "      <td>0</td>\n",
       "      <td>2014</td>\n",
       "      <td>5</td>\n",
       "      <td>2</td>\n",
       "      <td>spring</td>\n",
       "    </tr>\n",
       "    <tr>\n",
       "      <th>2</th>\n",
       "      <td>['Yoel Lerner', 'Mazi Cohen']</td>\n",
       "      <td>0.900000</td>\n",
       "      <td>0.617</td>\n",
       "      <td>56827</td>\n",
       "      <td>0.272</td>\n",
       "      <td>0</td>\n",
       "      <td>0.000000</td>\n",
       "      <td>7</td>\n",
       "      <td>0.0879</td>\n",
       "      <td>-16.818</td>\n",
       "      <td>1</td>\n",
       "      <td>0.0577</td>\n",
       "      <td>83.244</td>\n",
       "      <td>0.807</td>\n",
       "      <td>38</td>\n",
       "      <td>1981</td>\n",
       "      <td>4</td>\n",
       "      <td>1</td>\n",
       "      <td>spring</td>\n",
       "    </tr>\n",
       "    <tr>\n",
       "      <th>3</th>\n",
       "      <td>['Barbra Streisand']</td>\n",
       "      <td>0.294000</td>\n",
       "      <td>0.377</td>\n",
       "      <td>247467</td>\n",
       "      <td>0.269</td>\n",
       "      <td>0</td>\n",
       "      <td>0.000478</td>\n",
       "      <td>4</td>\n",
       "      <td>0.1440</td>\n",
       "      <td>-16.766</td>\n",
       "      <td>1</td>\n",
       "      <td>0.0268</td>\n",
       "      <td>82.302</td>\n",
       "      <td>0.196</td>\n",
       "      <td>40</td>\n",
       "      <td>1980</td>\n",
       "      <td>9</td>\n",
       "      <td>23</td>\n",
       "      <td>fall</td>\n",
       "    </tr>\n",
       "    <tr>\n",
       "      <th>5</th>\n",
       "      <td>['Mladen Tomic']</td>\n",
       "      <td>0.000581</td>\n",
       "      <td>0.805</td>\n",
       "      <td>395050</td>\n",
       "      <td>0.663</td>\n",
       "      <td>0</td>\n",
       "      <td>0.927000</td>\n",
       "      <td>7</td>\n",
       "      <td>0.0715</td>\n",
       "      <td>-8.338</td>\n",
       "      <td>1</td>\n",
       "      <td>0.0635</td>\n",
       "      <td>127.008</td>\n",
       "      <td>0.111</td>\n",
       "      <td>0</td>\n",
       "      <td>2013</td>\n",
       "      <td>11</td>\n",
       "      <td>4</td>\n",
       "      <td>fall</td>\n",
       "    </tr>\n",
       "    <tr>\n",
       "      <th>6</th>\n",
       "      <td>['Ramon Ayala Y Sus Bravos Del Norte']</td>\n",
       "      <td>0.453000</td>\n",
       "      <td>0.590</td>\n",
       "      <td>254027</td>\n",
       "      <td>0.722</td>\n",
       "      <td>0</td>\n",
       "      <td>0.000385</td>\n",
       "      <td>9</td>\n",
       "      <td>0.1110</td>\n",
       "      <td>-5.752</td>\n",
       "      <td>1</td>\n",
       "      <td>0.1670</td>\n",
       "      <td>150.744</td>\n",
       "      <td>0.401</td>\n",
       "      <td>47</td>\n",
       "      <td>2010</td>\n",
       "      <td>10</td>\n",
       "      <td>6</td>\n",
       "      <td>fall</td>\n",
       "    </tr>\n",
       "  </tbody>\n",
       "</table>\n",
       "</div>"
      ],
      "text/plain": [
       "                                  artists  acousticness  danceability  \\\n",
       "1                     ['Maison & Dragen']      0.000190         0.477   \n",
       "2           ['Yoel Lerner', 'Mazi Cohen']      0.900000         0.617   \n",
       "3                    ['Barbra Streisand']      0.294000         0.377   \n",
       "5                        ['Mladen Tomic']      0.000581         0.805   \n",
       "6  ['Ramon Ayala Y Sus Bravos Del Norte']      0.453000         0.590   \n",
       "\n",
       "   duration_ms  energy  explicit  instrumentalness  key  liveness  loudness  \\\n",
       "1       193968   0.834         0          0.978000    4    0.3960    -6.534   \n",
       "2        56827   0.272         0          0.000000    7    0.0879   -16.818   \n",
       "3       247467   0.269         0          0.000478    4    0.1440   -16.766   \n",
       "5       395050   0.663         0          0.927000    7    0.0715    -8.338   \n",
       "6       254027   0.722         0          0.000385    9    0.1110    -5.752   \n",
       "\n",
       "   mode  speechiness    tempo  valence  popularity  year  month  day  season  \n",
       "1     0       0.0396  130.007    0.516           0  2014      5    2  spring  \n",
       "2     1       0.0577   83.244    0.807          38  1981      4    1  spring  \n",
       "3     1       0.0268   82.302    0.196          40  1980      9   23    fall  \n",
       "5     1       0.0635  127.008    0.111           0  2013     11    4    fall  \n",
       "6     1       0.1670  150.744    0.401          47  2010     10    6    fall  "
      ]
     },
     "execution_count": 13,
     "metadata": {},
     "output_type": "execute_result"
    }
   ],
   "source": [
    "def season(month):\n",
    "    if month in [3, 4, 5]: ans = 'spring'\n",
    "    elif month in [6, 7, 8]: ans = 'summer'\n",
    "    elif month in [9, 10, 11]: ans = 'fall'\n",
    "    else: ans = 'winter'\n",
    "    return ans\n",
    "train['season'] = train['month'].apply(lambda x: season(x))\n",
    "train.head()"
   ]
  },
  {
   "cell_type": "code",
   "execution_count": 14,
   "metadata": {},
   "outputs": [
    {
     "name": "stdout",
     "output_type": "stream",
     "text": [
      "<class 'pandas.core.frame.DataFrame'>\n",
      "Index: 91038 entries, 1 to 129170\n",
      "Data columns (total 19 columns):\n",
      " #   Column            Non-Null Count  Dtype  \n",
      "---  ------            --------------  -----  \n",
      " 0   artists           91038 non-null  object \n",
      " 1   acousticness      91038 non-null  float64\n",
      " 2   danceability      91038 non-null  float64\n",
      " 3   duration_ms       91038 non-null  int64  \n",
      " 4   energy            91038 non-null  float64\n",
      " 5   explicit          91038 non-null  int64  \n",
      " 6   instrumentalness  91038 non-null  float64\n",
      " 7   key               91038 non-null  int64  \n",
      " 8   liveness          91038 non-null  float64\n",
      " 9   loudness          91038 non-null  float64\n",
      " 10  mode              91038 non-null  int64  \n",
      " 11  speechiness       91038 non-null  float64\n",
      " 12  tempo             91038 non-null  float64\n",
      " 13  valence           91038 non-null  float64\n",
      " 14  popularity        91038 non-null  int64  \n",
      " 15  year              91038 non-null  int32  \n",
      " 16  month             91038 non-null  int32  \n",
      " 17  day               91038 non-null  int32  \n",
      " 18  season            91038 non-null  object \n",
      "dtypes: float64(9), int32(3), int64(5), object(2)\n",
      "memory usage: 14.9+ MB\n"
     ]
    }
   ],
   "source": [
    "train.info()"
   ]
  },
  {
   "cell_type": "code",
   "execution_count": 15,
   "metadata": {
    "execution": {
     "iopub.execute_input": "2023-10-28T15:16:55.551582Z",
     "iopub.status.busy": "2023-10-28T15:16:55.550805Z",
     "iopub.status.idle": "2023-10-28T15:16:56.162872Z",
     "shell.execute_reply": "2023-10-28T15:16:56.161865Z",
     "shell.execute_reply.started": "2023-10-28T15:16:55.551546Z"
    }
   },
   "outputs": [
    {
     "name": "stderr",
     "output_type": "stream",
     "text": [
      "/Users/potatodev/anaconda3/envs/aiml/lib/python3.11/site-packages/seaborn/axisgrid.py:118: UserWarning: The figure layout has changed to tight\n",
      "  self._figure.tight_layout(*args, **kwargs)\n"
     ]
    },
    {
     "data": {
      "text/plain": [
       "<seaborn.axisgrid.FacetGrid at 0x14dc55d90>"
      ]
     },
     "execution_count": 15,
     "metadata": {},
     "output_type": "execute_result"
    },
    {
     "data": {
      "image/png": "[encoded data removed]",
      "text/plain": [
       "<Figure size 500x500 with 1 Axes>"
      ]
     },
     "metadata": {},
     "output_type": "display_data"
    }
   ],
   "source": [
    "mpl.rc('font', size = 15)\n",
    "sns.displot(train['popularity'])"
   ]
  },
  {
   "cell_type": "code",
   "execution_count": 16,
   "metadata": {
    "execution": {
     "iopub.execute_input": "2023-10-28T15:16:56.164773Z",
     "iopub.status.busy": "2023-10-28T15:16:56.164429Z",
     "iopub.status.idle": "2023-10-28T15:16:56.897932Z",
     "shell.execute_reply": "2023-10-28T15:16:56.896780Z",
     "shell.execute_reply.started": "2023-10-28T15:16:56.164721Z"
    }
   },
   "outputs": [
    {
     "name": "stderr",
     "output_type": "stream",
     "text": [
      "/Users/potatodev/anaconda3/envs/aiml/lib/python3.11/site-packages/pandas/core/arraylike.py:396: RuntimeWarning: divide by zero encountered in log\n",
      "  result = getattr(ufunc, method)(*inputs, **kwargs)\n",
      "/Users/potatodev/anaconda3/envs/aiml/lib/python3.11/site-packages/seaborn/axisgrid.py:118: UserWarning: The figure layout has changed to tight\n",
      "  self._figure.tight_layout(*args, **kwargs)\n"
     ]
    },
    {
     "data": {
      "text/plain": [
       "<seaborn.axisgrid.FacetGrid at 0x14fdd5dd0>"
      ]
     },
     "execution_count": 16,
     "metadata": {},
     "output_type": "execute_result"
    },
    {
     "data": {
      "image/png": "[encoded data removed]",
      "text/plain": [
       "<Figure size 500x500 with 1 Axes>"
      ]
     },
     "metadata": {},
     "output_type": "display_data"
    }
   ],
   "source": [
    "sns.displot(np.log(train['popularity']))"
   ]
  },
  {
   "cell_type": "code",
   "execution_count": 17,
   "metadata": {},
   "outputs": [
    {
     "name": "stderr",
     "output_type": "stream",
     "text": [
      "/Users/potatodev/anaconda3/envs/aiml/lib/python3.11/site-packages/seaborn/axisgrid.py:118: UserWarning: The figure layout has changed to tight\n",
      "  self._figure.tight_layout(*args, **kwargs)\n"
     ]
    },
    {
     "data": {
      "text/plain": [
       "<seaborn.axisgrid.FacetGrid at 0x14e7e7710>"
      ]
     },
     "execution_count": 17,
     "metadata": {},
     "output_type": "execute_result"
    },
    {
     "data": {
      "image/png": "[encoded data removed]",
      "text/plain": [
       "<Figure size 500x500 with 1 Axes>"
      ]
     },
     "metadata": {},
     "output_type": "display_data"
    }
   ],
   "source": [
    "sns.displot(train['season'])"
   ]
  },
  {
   "cell_type": "markdown",
   "metadata": {},
   "source": [
    "* 0   artists           91038 non-null  object \n",
    "*  1   acousticness      91038 non-null  float64\n",
    "*  2   danceability      91038 non-null  float64\n",
    "*  3   duration_ms       91038 non-null  int64  \n",
    "*  4   energy            91038 non-null  float64\n",
    "*  5   explicit          91038 non-null  int64  \n",
    "*  6   instrumentalness  91038 non-null  float64\n",
    "*  7   key               91038 non-null  int64  \n",
    "*  8   liveness          91038 non-null  float64\n",
    "*  9   loudness          91038 non-null  float64\n",
    "*  10  mode              91038 non-null  int64  \n",
    "*  11  speechiness       91038 non-null  float64\n",
    "*  12  tempo             91038 non-null  float64\n",
    "*  13  valence           91038 non-null  float64\n",
    "*  14  popularity        91038 non-null  int64  \n",
    "*  15  year              91038 non-null  int32  \n",
    "*  16  month             91038 non-null  int32  \n",
    "*  17  day               91038 non-null  int32  \n",
    "*  18  season            91038 non-null  int64 "
   ]
  },
  {
   "cell_type": "code",
   "execution_count": 18,
   "metadata": {
    "execution": {
     "iopub.execute_input": "2023-10-28T15:27:12.643071Z",
     "iopub.status.busy": "2023-10-28T15:27:12.642670Z"
    }
   },
   "outputs": [
    {
     "data": {
      "text/plain": [
       "[Text(0.5, 1.0, 'duration_ms-popularity')]"
      ]
     },
     "execution_count": 18,
     "metadata": {},
     "output_type": "execute_result"
    },
    {
     "data": {
      "image/png": "[encoded data removed]",
      "text/plain": [
       "<Figure size 1000x900 with 6 Axes>"
      ]
     },
     "metadata": {},
     "output_type": "display_data"
    }
   ],
   "source": [
    "mpl.rc('font', size = 10)\n",
    "mpl.rc('axes', titlesize = 12)\n",
    "figure, axes = plt.subplots(nrows = 3, ncols = 2)\n",
    "plt.tight_layout()\n",
    "figure.set_size_inches(10, 9)\n",
    "\n",
    "sns.barplot(x = 'year', y = 'popularity', data = train, ax = axes[0,0])\n",
    "sns.barplot(x = 'month', y = 'popularity', data = train, ax = axes[0,1])\n",
    "sns.barplot(x = 'season', y = 'popularity', data = train, ax = axes[1,0])\n",
    "sns.barplot(x = 'acousticness', y = 'popularity', data = train, ax = axes[1,1])\n",
    "sns.barplot(x = 'danceability', y = 'popularity', data = train, ax = axes[2,0])\n",
    "sns.barplot(x = 'duration_ms', y = 'popularity', data = train, ax = axes[2,1])\n",
    "\n",
    "axes[0,0].set(title = 'year-popularity')\n",
    "axes[0,1].set(title = 'month-popularity')\n",
    "axes[1,0].set(title = 'season-popularity')\n",
    "axes[1,1].set(title = 'acousticness-popularity')\n",
    "axes[2,0].set(title = 'danceability-popularity')\n",
    "axes[2,1].set(title = 'duration_ms-popularity')"
   ]
  },
  {
   "cell_type": "code",
   "execution_count": null,
   "metadata": {},
   "outputs": [],
   "source": []
  }
 ],
 "metadata": {
  "kernelspec": {
   "display_name": "Python 3 (ipykernel)",
   "language": "python",
   "name": "python3"
  },
  "language_info": {
   "codemirror_mode": {
    "name": "ipython",
    "version": 3
   },
   "file_extension": ".py",
   "mimetype": "text/x-python",
   "name": "python",
   "nbconvert_exporter": "python",
   "pygments_lexer": "ipython3",
   "version": "3.9.16"
  }
 },
 "nbformat": 4,
 "nbformat_minor": 4
}
