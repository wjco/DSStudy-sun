{
 "cells": [
  {
   "cell_type": "markdown",
   "id": "448c788b",
   "metadata": {},
   "source": [
    "# 스포티파이 인기도 예측\n",
    "2023.10.29 ~ 2023.11.05"
   ]
  },
  {
   "cell_type": "markdown",
   "id": "7c433296",
   "metadata": {},
   "source": [
    "## 1. 데이터셋 개요\n",
    "\n",
    "- 제목: Spotify Popularity Prediction\n",
    "- 설명: Regression problem intended to predict the popularity of a track\n",
    "- 출처: Kaggle (https://www.kaggle.com/competitions/spotify-popularity-prediction-v2/data)"
   ]
  },
  {
   "cell_type": "markdown",
   "id": "2423e796",
   "metadata": {},
   "source": [
    "## 2. 데이터셋 불러오기"
   ]
  },
  {
   "cell_type": "markdown",
   "id": "b350c3de",
   "metadata": {},
   "source": [
    "### 2-1. 데이터셋 로딩 및 전체적인 분포 확인"
   ]
  },
  {
   "cell_type": "code",
   "execution_count": 1,
   "id": "c50de7e6",
   "metadata": {
    "ExecuteTime": {
     "end_time": "2023-11-05T05:51:48.861191Z",
     "start_time": "2023-11-05T05:51:47.892114Z"
    }
   },
   "outputs": [
    {
     "data": {
      "text/html": [
       "<div>\n",
       "<style scoped>\n",
       "    .dataframe tbody tr th:only-of-type {\n",
       "        vertical-align: middle;\n",
       "    }\n",
       "\n",
       "    .dataframe tbody tr th {\n",
       "        vertical-align: top;\n",
       "    }\n",
       "\n",
       "    .dataframe thead th {\n",
       "        text-align: right;\n",
       "    }\n",
       "</style>\n",
       "<table border=\"1\" class=\"dataframe\">\n",
       "  <thead>\n",
       "    <tr style=\"text-align: right;\">\n",
       "      <th></th>\n",
       "      <th>id</th>\n",
       "      <th>artists</th>\n",
       "      <th>name</th>\n",
       "      <th>year</th>\n",
       "      <th>acousticness</th>\n",
       "      <th>danceability</th>\n",
       "      <th>duration_ms</th>\n",
       "      <th>energy</th>\n",
       "      <th>explicit</th>\n",
       "      <th>instrumentalness</th>\n",
       "      <th>key</th>\n",
       "      <th>liveness</th>\n",
       "      <th>loudness</th>\n",
       "      <th>mode</th>\n",
       "      <th>release_date</th>\n",
       "      <th>speechiness</th>\n",
       "      <th>tempo</th>\n",
       "      <th>valence</th>\n",
       "      <th>popularity</th>\n",
       "    </tr>\n",
       "  </thead>\n",
       "  <tbody>\n",
       "    <tr>\n",
       "      <th>0</th>\n",
       "      <td>7pQSmQ0l7QdBeL9X6CEMbH</td>\n",
       "      <td>['Erroll Garner']</td>\n",
       "      <td>I'll Remember April - Original Edited Concert ...</td>\n",
       "      <td>1955</td>\n",
       "      <td>0.92300</td>\n",
       "      <td>0.438</td>\n",
       "      <td>257693</td>\n",
       "      <td>0.602</td>\n",
       "      <td>0</td>\n",
       "      <td>0.658000</td>\n",
       "      <td>8</td>\n",
       "      <td>0.9500</td>\n",
       "      <td>-14.565</td>\n",
       "      <td>1</td>\n",
       "      <td>1955</td>\n",
       "      <td>0.0408</td>\n",
       "      <td>122.289</td>\n",
       "      <td>0.546</td>\n",
       "      <td>24</td>\n",
       "    </tr>\n",
       "    <tr>\n",
       "      <th>1</th>\n",
       "      <td>2g8MTBFRUSFKbY5RQiSSEE</td>\n",
       "      <td>['Maison &amp; Dragen']</td>\n",
       "      <td>Chinese New Year - Radio Edit</td>\n",
       "      <td>2014</td>\n",
       "      <td>0.00019</td>\n",
       "      <td>0.477</td>\n",
       "      <td>193968</td>\n",
       "      <td>0.834</td>\n",
       "      <td>0</td>\n",
       "      <td>0.978000</td>\n",
       "      <td>4</td>\n",
       "      <td>0.3960</td>\n",
       "      <td>-6.534</td>\n",
       "      <td>0</td>\n",
       "      <td>2014-05-02</td>\n",
       "      <td>0.0396</td>\n",
       "      <td>130.007</td>\n",
       "      <td>0.516</td>\n",
       "      <td>0</td>\n",
       "    </tr>\n",
       "    <tr>\n",
       "      <th>2</th>\n",
       "      <td>2LcJoQ5SDUZrC2qUjWMEdF</td>\n",
       "      <td>['Yoel Lerner', 'Mazi Cohen']</td>\n",
       "      <td>השפן הקטן</td>\n",
       "      <td>1981</td>\n",
       "      <td>0.90000</td>\n",
       "      <td>0.617</td>\n",
       "      <td>56827</td>\n",
       "      <td>0.272</td>\n",
       "      <td>0</td>\n",
       "      <td>0.000000</td>\n",
       "      <td>7</td>\n",
       "      <td>0.0879</td>\n",
       "      <td>-16.818</td>\n",
       "      <td>1</td>\n",
       "      <td>1981-04-01</td>\n",
       "      <td>0.0577</td>\n",
       "      <td>83.244</td>\n",
       "      <td>0.807</td>\n",
       "      <td>38</td>\n",
       "    </tr>\n",
       "    <tr>\n",
       "      <th>3</th>\n",
       "      <td>6RzHyUtRNARYyn2AIuoLnY</td>\n",
       "      <td>['Barbra Streisand']</td>\n",
       "      <td>Run Wild</td>\n",
       "      <td>1980</td>\n",
       "      <td>0.29400</td>\n",
       "      <td>0.377</td>\n",
       "      <td>247467</td>\n",
       "      <td>0.269</td>\n",
       "      <td>0</td>\n",
       "      <td>0.000478</td>\n",
       "      <td>4</td>\n",
       "      <td>0.1440</td>\n",
       "      <td>-16.766</td>\n",
       "      <td>1</td>\n",
       "      <td>1980-09-23</td>\n",
       "      <td>0.0268</td>\n",
       "      <td>82.302</td>\n",
       "      <td>0.196</td>\n",
       "      <td>40</td>\n",
       "    </tr>\n",
       "    <tr>\n",
       "      <th>4</th>\n",
       "      <td>6Kd0I5es8911FZpYhFS053</td>\n",
       "      <td>['Willie Nelson']</td>\n",
       "      <td>Till I Gain Control Again - Live</td>\n",
       "      <td>1975</td>\n",
       "      <td>0.49400</td>\n",
       "      <td>0.501</td>\n",
       "      <td>351560</td>\n",
       "      <td>0.218</td>\n",
       "      <td>0</td>\n",
       "      <td>0.008110</td>\n",
       "      <td>0</td>\n",
       "      <td>0.2970</td>\n",
       "      <td>-13.045</td>\n",
       "      <td>1</td>\n",
       "      <td>1975</td>\n",
       "      <td>0.0283</td>\n",
       "      <td>77.854</td>\n",
       "      <td>0.239</td>\n",
       "      <td>20</td>\n",
       "    </tr>\n",
       "  </tbody>\n",
       "</table>\n",
       "</div>"
      ],
      "text/plain": [
       "                       id                        artists  \\\n",
       "0  7pQSmQ0l7QdBeL9X6CEMbH              ['Erroll Garner']   \n",
       "1  2g8MTBFRUSFKbY5RQiSSEE            ['Maison & Dragen']   \n",
       "2  2LcJoQ5SDUZrC2qUjWMEdF  ['Yoel Lerner', 'Mazi Cohen']   \n",
       "3  6RzHyUtRNARYyn2AIuoLnY           ['Barbra Streisand']   \n",
       "4  6Kd0I5es8911FZpYhFS053              ['Willie Nelson']   \n",
       "\n",
       "                                                name  year  acousticness  \\\n",
       "0  I'll Remember April - Original Edited Concert ...  1955       0.92300   \n",
       "1                      Chinese New Year - Radio Edit  2014       0.00019   \n",
       "2                                          השפן הקטן  1981       0.90000   \n",
       "3                                           Run Wild  1980       0.29400   \n",
       "4                   Till I Gain Control Again - Live  1975       0.49400   \n",
       "\n",
       "   danceability  duration_ms  energy  explicit  instrumentalness  key  \\\n",
       "0         0.438       257693   0.602         0          0.658000    8   \n",
       "1         0.477       193968   0.834         0          0.978000    4   \n",
       "2         0.617        56827   0.272         0          0.000000    7   \n",
       "3         0.377       247467   0.269         0          0.000478    4   \n",
       "4         0.501       351560   0.218         0          0.008110    0   \n",
       "\n",
       "   liveness  loudness  mode release_date  speechiness    tempo  valence  \\\n",
       "0    0.9500   -14.565     1         1955       0.0408  122.289    0.546   \n",
       "1    0.3960    -6.534     0   2014-05-02       0.0396  130.007    0.516   \n",
       "2    0.0879   -16.818     1   1981-04-01       0.0577   83.244    0.807   \n",
       "3    0.1440   -16.766     1   1980-09-23       0.0268   82.302    0.196   \n",
       "4    0.2970   -13.045     1         1975       0.0283   77.854    0.239   \n",
       "\n",
       "   popularity  \n",
       "0          24  \n",
       "1           0  \n",
       "2          38  \n",
       "3          40  \n",
       "4          20  "
      ]
     },
     "execution_count": 1,
     "metadata": {},
     "output_type": "execute_result"
    }
   ],
   "source": [
    "import pandas as pd\n",
    "\n",
    "music_df = pd.read_csv('train.csv')\n",
    "music_df.head()"
   ]
  },
  {
   "cell_type": "code",
   "execution_count": 2,
   "id": "70ebafc6",
   "metadata": {
    "ExecuteTime": {
     "end_time": "2023-11-04T09:05:48.117193Z",
     "start_time": "2023-11-04T09:05:48.055846Z"
    }
   },
   "outputs": [
    {
     "name": "stdout",
     "output_type": "stream",
     "text": [
      "<class 'pandas.core.frame.DataFrame'>\n",
      "RangeIndex: 129172 entries, 0 to 129171\n",
      "Data columns (total 19 columns):\n",
      " #   Column            Non-Null Count   Dtype  \n",
      "---  ------            --------------   -----  \n",
      " 0   id                129172 non-null  object \n",
      " 1   artists           129172 non-null  object \n",
      " 2   name              129172 non-null  object \n",
      " 3   year              129172 non-null  int64  \n",
      " 4   acousticness      129172 non-null  float64\n",
      " 5   danceability      129172 non-null  float64\n",
      " 6   duration_ms       129172 non-null  int64  \n",
      " 7   energy            129172 non-null  float64\n",
      " 8   explicit          129172 non-null  int64  \n",
      " 9   instrumentalness  129172 non-null  float64\n",
      " 10  key               129172 non-null  int64  \n",
      " 11  liveness          129172 non-null  float64\n",
      " 12  loudness          129172 non-null  float64\n",
      " 13  mode              129172 non-null  int64  \n",
      " 14  release_date      129172 non-null  object \n",
      " 15  speechiness       129172 non-null  float64\n",
      " 16  tempo             129172 non-null  float64\n",
      " 17  valence           129172 non-null  float64\n",
      " 18  popularity        129172 non-null  int64  \n",
      "dtypes: float64(9), int64(6), object(4)\n",
      "memory usage: 18.7+ MB\n"
     ]
    }
   ],
   "source": [
    "music_df.info()"
   ]
  },
  {
   "cell_type": "markdown",
   "id": "bc324a68",
   "metadata": {},
   "source": [
    "Dataset Description이 포르투갈어로 되어 있어서 파파고를 이용해서 한국어로 번역해 보면 아래와 같다.\n",
    "- id: 스포티파이 하단에 있는 음악 식별자\n",
    "- artists : 아티스트명\n",
    "- name : 곡명\n",
    "- year : 출시년도\n",
    "- release_date: Year-Month-Day로 인코딩된 음악의 발매일. 그동안 모든 곡이 완전한 정보를 가지고 있는 것은 아니기 때문에 예를 들어 연도만 포함하고 있을 가능성이 있습니다.\n",
    "- acousticness : 음악이 음향적인 한 0과 1 사이에 있습니다.\n",
    "- danceability : 음악이 춤을 출 수 있는 한 0과 1 사이입니다.\n",
    "- duration_ms : 밀리세컨드(1000분의 1초) 단위의 지속 시간.\n",
    "- energy : 음악이 에너지인 한 에너지는 0에서 1사이입니다.\n",
    "- explicit : 음악에 명시적인 내용의 문자가 포함되어 있으면 1, 그렇지 않으면 0.\n",
    "- instrumentalness : 0과 1사이의 음악이 얼마나 기악적인지.\n",
    "- key : 음악의 음색, 여기 지도.\n",
    "- liveness : 0과 1사이에서 라이브 음악은 얼마인가요.\n",
    "- loudness : 음악의 볼륨이 얼마나 큰가요. 그 값은 보통 -60에서 0사이로 데시벨의 양을 나타냅니다.\n",
    "- mode : 음악이 높은 톤이면 1, 낮은 톤이면 0. 높은 톤이면 행복한 노래로, 낮은 톤이면 더 슬픈 노래로 여겨집니다.\n",
    "- speechiness : 음악이 발성/음성화되는 한 0과 1 사이입니다.\n",
    "- tempo : 분당 비트 수(BPM)의 뮤직 타임\n",
    "- valence : 0과 1 사이에서 음악의 긍정성을 설명하는데, 긍정적인 음악에 대한 가치는 높고(행복, 명랑, 행복감 등), 부정적인 음악에 대한 가치는 낮음(슬픔, 분노 등)\n",
    "- popularity : 0~100, 음악 인기도 이번 세트에서는 목표 변수입니다."
   ]
  },
  {
   "cell_type": "markdown",
   "id": "444b2948",
   "metadata": {},
   "source": [
    "### 2-2. 음악의 발매 연도 분포 확인"
   ]
  },
  {
   "cell_type": "code",
   "execution_count": 3,
   "id": "f477cc47",
   "metadata": {
    "ExecuteTime": {
     "end_time": "2023-11-04T09:05:51.079935Z",
     "start_time": "2023-11-04T09:05:51.053051Z"
    }
   },
   "outputs": [
    {
     "data": {
      "text/plain": [
       "count    129172.000000\n",
       "mean       1976.579762\n",
       "std          26.722407\n",
       "min        1920.000000\n",
       "25%        1955.000000\n",
       "50%        1977.000000\n",
       "75%        1998.000000\n",
       "max        2021.000000\n",
       "Name: year, dtype: float64"
      ]
     },
     "execution_count": 3,
     "metadata": {},
     "output_type": "execute_result"
    }
   ],
   "source": [
    "music_df['year'].describe()"
   ]
  },
  {
   "cell_type": "code",
   "execution_count": 4,
   "id": "4135b7d2",
   "metadata": {
    "ExecuteTime": {
     "end_time": "2023-11-04T08:26:49.375621Z",
     "start_time": "2023-11-04T08:26:48.967405Z"
    }
   },
   "outputs": [
    {
     "data": {
      "image/png": "[encoded data removed]",
      "text/plain": [
       "<Figure size 640x480 with 1 Axes>"
      ]
     },
     "metadata": {},
     "output_type": "display_data"
    }
   ],
   "source": [
    "import matplotlib.pyplot as plt\n",
    "\n",
    "music_df['year'].plot(\n",
    "    kind='box',\n",
    "    title='발매 연도 분포'\n",
    ")\n",
    "plt.show()"
   ]
  },
  {
   "cell_type": "markdown",
   "id": "af30f903",
   "metadata": {},
   "source": [
    "1960년대 ~ 1990년대 데이터가 다수이며 가장 최신 연도는 2021년으로 확인된다."
   ]
  },
  {
   "cell_type": "markdown",
   "id": "55641a57",
   "metadata": {},
   "source": [
    "### 2-3. 음악의 특성 분포 확인"
   ]
  },
  {
   "cell_type": "code",
   "execution_count": 5,
   "id": "3c3c4f6d",
   "metadata": {
    "ExecuteTime": {
     "end_time": "2023-11-04T08:26:49.485541Z",
     "start_time": "2023-11-04T08:26:49.377577Z"
    }
   },
   "outputs": [
    {
     "data": {
      "text/html": [
       "<div>\n",
       "<style scoped>\n",
       "    .dataframe tbody tr th:only-of-type {\n",
       "        vertical-align: middle;\n",
       "    }\n",
       "\n",
       "    .dataframe tbody tr th {\n",
       "        vertical-align: top;\n",
       "    }\n",
       "\n",
       "    .dataframe thead th {\n",
       "        text-align: right;\n",
       "    }\n",
       "</style>\n",
       "<table border=\"1\" class=\"dataframe\">\n",
       "  <thead>\n",
       "    <tr style=\"text-align: right;\">\n",
       "      <th></th>\n",
       "      <th>acousticness</th>\n",
       "      <th>danceability</th>\n",
       "      <th>duration_ms</th>\n",
       "      <th>energy</th>\n",
       "      <th>explicit</th>\n",
       "      <th>instrumentalness</th>\n",
       "      <th>key</th>\n",
       "      <th>liveness</th>\n",
       "      <th>loudness</th>\n",
       "      <th>mode</th>\n",
       "      <th>speechiness</th>\n",
       "      <th>tempo</th>\n",
       "      <th>valence</th>\n",
       "      <th>popularity</th>\n",
       "    </tr>\n",
       "  </thead>\n",
       "  <tbody>\n",
       "    <tr>\n",
       "      <th>count</th>\n",
       "      <td>129172.000000</td>\n",
       "      <td>129172.000000</td>\n",
       "      <td>1.291720e+05</td>\n",
       "      <td>129172.000000</td>\n",
       "      <td>129172.000000</td>\n",
       "      <td>129172.000000</td>\n",
       "      <td>129172.000000</td>\n",
       "      <td>129172.000000</td>\n",
       "      <td>129172.000000</td>\n",
       "      <td>129172.000000</td>\n",
       "      <td>129172.000000</td>\n",
       "      <td>129172.000000</td>\n",
       "      <td>129172.000000</td>\n",
       "      <td>129172.000000</td>\n",
       "    </tr>\n",
       "    <tr>\n",
       "      <th>mean</th>\n",
       "      <td>0.501950</td>\n",
       "      <td>0.536076</td>\n",
       "      <td>2.328895e+05</td>\n",
       "      <td>0.481096</td>\n",
       "      <td>0.067956</td>\n",
       "      <td>0.194286</td>\n",
       "      <td>5.207050</td>\n",
       "      <td>0.211519</td>\n",
       "      <td>-11.767025</td>\n",
       "      <td>0.703868</td>\n",
       "      <td>0.105871</td>\n",
       "      <td>116.943154</td>\n",
       "      <td>0.525167</td>\n",
       "      <td>25.915539</td>\n",
       "    </tr>\n",
       "    <tr>\n",
       "      <th>std</th>\n",
       "      <td>0.379088</td>\n",
       "      <td>0.175803</td>\n",
       "      <td>1.492669e+05</td>\n",
       "      <td>0.271778</td>\n",
       "      <td>0.251671</td>\n",
       "      <td>0.332443</td>\n",
       "      <td>3.516778</td>\n",
       "      <td>0.180989</td>\n",
       "      <td>5.679598</td>\n",
       "      <td>0.456552</td>\n",
       "      <td>0.182878</td>\n",
       "      <td>30.348323</td>\n",
       "      <td>0.264451</td>\n",
       "      <td>21.876377</td>\n",
       "    </tr>\n",
       "    <tr>\n",
       "      <th>min</th>\n",
       "      <td>0.000000</td>\n",
       "      <td>0.000000</td>\n",
       "      <td>4.937000e+03</td>\n",
       "      <td>0.000000</td>\n",
       "      <td>0.000000</td>\n",
       "      <td>0.000000</td>\n",
       "      <td>0.000000</td>\n",
       "      <td>0.000000</td>\n",
       "      <td>-60.000000</td>\n",
       "      <td>0.000000</td>\n",
       "      <td>0.000000</td>\n",
       "      <td>0.000000</td>\n",
       "      <td>0.000000</td>\n",
       "      <td>0.000000</td>\n",
       "    </tr>\n",
       "    <tr>\n",
       "      <th>25%</th>\n",
       "      <td>0.091800</td>\n",
       "      <td>0.414000</td>\n",
       "      <td>1.662930e+05</td>\n",
       "      <td>0.248000</td>\n",
       "      <td>0.000000</td>\n",
       "      <td>0.000000</td>\n",
       "      <td>2.000000</td>\n",
       "      <td>0.099300</td>\n",
       "      <td>-14.905000</td>\n",
       "      <td>0.000000</td>\n",
       "      <td>0.035100</td>\n",
       "      <td>93.755500</td>\n",
       "      <td>0.311000</td>\n",
       "      <td>1.000000</td>\n",
       "    </tr>\n",
       "    <tr>\n",
       "      <th>50%</th>\n",
       "      <td>0.523000</td>\n",
       "      <td>0.547000</td>\n",
       "      <td>2.056665e+05</td>\n",
       "      <td>0.463000</td>\n",
       "      <td>0.000000</td>\n",
       "      <td>0.000482</td>\n",
       "      <td>5.000000</td>\n",
       "      <td>0.138000</td>\n",
       "      <td>-10.868000</td>\n",
       "      <td>1.000000</td>\n",
       "      <td>0.045400</td>\n",
       "      <td>115.639500</td>\n",
       "      <td>0.537000</td>\n",
       "      <td>26.000000</td>\n",
       "    </tr>\n",
       "    <tr>\n",
       "      <th>75%</th>\n",
       "      <td>0.895000</td>\n",
       "      <td>0.668000</td>\n",
       "      <td>2.658400e+05</td>\n",
       "      <td>0.707000</td>\n",
       "      <td>0.000000</td>\n",
       "      <td>0.234000</td>\n",
       "      <td>8.000000</td>\n",
       "      <td>0.270000</td>\n",
       "      <td>-7.532000</td>\n",
       "      <td>1.000000</td>\n",
       "      <td>0.076300</td>\n",
       "      <td>135.014000</td>\n",
       "      <td>0.744000</td>\n",
       "      <td>42.000000</td>\n",
       "    </tr>\n",
       "    <tr>\n",
       "      <th>max</th>\n",
       "      <td>0.996000</td>\n",
       "      <td>0.988000</td>\n",
       "      <td>5.338302e+06</td>\n",
       "      <td>1.000000</td>\n",
       "      <td>1.000000</td>\n",
       "      <td>1.000000</td>\n",
       "      <td>11.000000</td>\n",
       "      <td>1.000000</td>\n",
       "      <td>3.855000</td>\n",
       "      <td>1.000000</td>\n",
       "      <td>0.971000</td>\n",
       "      <td>243.507000</td>\n",
       "      <td>1.000000</td>\n",
       "      <td>96.000000</td>\n",
       "    </tr>\n",
       "  </tbody>\n",
       "</table>\n",
       "</div>"
      ],
      "text/plain": [
       "        acousticness   danceability   duration_ms         energy  \\\n",
       "count  129172.000000  129172.000000  1.291720e+05  129172.000000   \n",
       "mean        0.501950       0.536076  2.328895e+05       0.481096   \n",
       "std         0.379088       0.175803  1.492669e+05       0.271778   \n",
       "min         0.000000       0.000000  4.937000e+03       0.000000   \n",
       "25%         0.091800       0.414000  1.662930e+05       0.248000   \n",
       "50%         0.523000       0.547000  2.056665e+05       0.463000   \n",
       "75%         0.895000       0.668000  2.658400e+05       0.707000   \n",
       "max         0.996000       0.988000  5.338302e+06       1.000000   \n",
       "\n",
       "            explicit  instrumentalness            key       liveness  \\\n",
       "count  129172.000000     129172.000000  129172.000000  129172.000000   \n",
       "mean        0.067956          0.194286       5.207050       0.211519   \n",
       "std         0.251671          0.332443       3.516778       0.180989   \n",
       "min         0.000000          0.000000       0.000000       0.000000   \n",
       "25%         0.000000          0.000000       2.000000       0.099300   \n",
       "50%         0.000000          0.000482       5.000000       0.138000   \n",
       "75%         0.000000          0.234000       8.000000       0.270000   \n",
       "max         1.000000          1.000000      11.000000       1.000000   \n",
       "\n",
       "            loudness           mode    speechiness          tempo  \\\n",
       "count  129172.000000  129172.000000  129172.000000  129172.000000   \n",
       "mean      -11.767025       0.703868       0.105871     116.943154   \n",
       "std         5.679598       0.456552       0.182878      30.348323   \n",
       "min       -60.000000       0.000000       0.000000       0.000000   \n",
       "25%       -14.905000       0.000000       0.035100      93.755500   \n",
       "50%       -10.868000       1.000000       0.045400     115.639500   \n",
       "75%        -7.532000       1.000000       0.076300     135.014000   \n",
       "max         3.855000       1.000000       0.971000     243.507000   \n",
       "\n",
       "             valence     popularity  \n",
       "count  129172.000000  129172.000000  \n",
       "mean        0.525167      25.915539  \n",
       "std         0.264451      21.876377  \n",
       "min         0.000000       0.000000  \n",
       "25%         0.311000       1.000000  \n",
       "50%         0.537000      26.000000  \n",
       "75%         0.744000      42.000000  \n",
       "max         1.000000      96.000000  "
      ]
     },
     "execution_count": 5,
     "metadata": {},
     "output_type": "execute_result"
    }
   ],
   "source": [
    "music_df.drop('year', axis=1).describe()"
   ]
  },
  {
   "cell_type": "markdown",
   "id": "038122f3",
   "metadata": {},
   "source": [
    "- ```acousticness```, ```danceability```, ```energy```, ```explicit```, ```instrumentalness```, ```liveness```, ```mode```, ```speechiness```, ```valence```의 9개 컬럼이 0 이상 1 이하의 분포를 가지고 있다.\n",
    "- ```duration_ms```는 지수로 표현될 정도로 큰 값을 가지고 있다.\n",
    "- ```key```는 0 이상 11 이하의 정수로 표현되어 있다.\n",
    "- ```loudness```는 -60부터 0까지라고 description에 적혀 있으나 최댓값으로 약 3.9를 가지는 행도 있다.\n",
    "- ```tempo```는 0 이상으로 나타나 있고 가장 높은 값이 243.5인 것으로 보아 BPM을 나타내는 듯하다.\n",
    "- ```popularity``` 0 이상 100 이하의 분포를 가지고 있다."
   ]
  },
  {
   "cell_type": "code",
   "execution_count": 6,
   "id": "aea60212",
   "metadata": {
    "ExecuteTime": {
     "end_time": "2023-11-04T08:26:49.563621Z",
     "start_time": "2023-11-04T08:26:49.487623Z"
    }
   },
   "outputs": [
    {
     "data": {
      "text/html": [
       "<div>\n",
       "<style scoped>\n",
       "    .dataframe tbody tr th:only-of-type {\n",
       "        vertical-align: middle;\n",
       "    }\n",
       "\n",
       "    .dataframe tbody tr th {\n",
       "        vertical-align: top;\n",
       "    }\n",
       "\n",
       "    .dataframe thead th {\n",
       "        text-align: right;\n",
       "    }\n",
       "</style>\n",
       "<table border=\"1\" class=\"dataframe\">\n",
       "  <thead>\n",
       "    <tr style=\"text-align: right;\">\n",
       "      <th></th>\n",
       "      <th>acousticness</th>\n",
       "      <th>danceability</th>\n",
       "      <th>energy</th>\n",
       "      <th>explicit</th>\n",
       "      <th>instrumentalness</th>\n",
       "      <th>liveness</th>\n",
       "      <th>mode</th>\n",
       "      <th>speechiness</th>\n",
       "      <th>valence</th>\n",
       "    </tr>\n",
       "  </thead>\n",
       "  <tbody>\n",
       "    <tr>\n",
       "      <th>count</th>\n",
       "      <td>129172.000000</td>\n",
       "      <td>129172.000000</td>\n",
       "      <td>129172.000000</td>\n",
       "      <td>129172.000000</td>\n",
       "      <td>129172.000000</td>\n",
       "      <td>129172.000000</td>\n",
       "      <td>129172.000000</td>\n",
       "      <td>129172.000000</td>\n",
       "      <td>129172.000000</td>\n",
       "    </tr>\n",
       "    <tr>\n",
       "      <th>mean</th>\n",
       "      <td>0.501950</td>\n",
       "      <td>0.536076</td>\n",
       "      <td>0.481096</td>\n",
       "      <td>0.067956</td>\n",
       "      <td>0.194286</td>\n",
       "      <td>0.211519</td>\n",
       "      <td>0.703868</td>\n",
       "      <td>0.105871</td>\n",
       "      <td>0.525167</td>\n",
       "    </tr>\n",
       "    <tr>\n",
       "      <th>std</th>\n",
       "      <td>0.379088</td>\n",
       "      <td>0.175803</td>\n",
       "      <td>0.271778</td>\n",
       "      <td>0.251671</td>\n",
       "      <td>0.332443</td>\n",
       "      <td>0.180989</td>\n",
       "      <td>0.456552</td>\n",
       "      <td>0.182878</td>\n",
       "      <td>0.264451</td>\n",
       "    </tr>\n",
       "    <tr>\n",
       "      <th>min</th>\n",
       "      <td>0.000000</td>\n",
       "      <td>0.000000</td>\n",
       "      <td>0.000000</td>\n",
       "      <td>0.000000</td>\n",
       "      <td>0.000000</td>\n",
       "      <td>0.000000</td>\n",
       "      <td>0.000000</td>\n",
       "      <td>0.000000</td>\n",
       "      <td>0.000000</td>\n",
       "    </tr>\n",
       "    <tr>\n",
       "      <th>25%</th>\n",
       "      <td>0.091800</td>\n",
       "      <td>0.414000</td>\n",
       "      <td>0.248000</td>\n",
       "      <td>0.000000</td>\n",
       "      <td>0.000000</td>\n",
       "      <td>0.099300</td>\n",
       "      <td>0.000000</td>\n",
       "      <td>0.035100</td>\n",
       "      <td>0.311000</td>\n",
       "    </tr>\n",
       "    <tr>\n",
       "      <th>50%</th>\n",
       "      <td>0.523000</td>\n",
       "      <td>0.547000</td>\n",
       "      <td>0.463000</td>\n",
       "      <td>0.000000</td>\n",
       "      <td>0.000482</td>\n",
       "      <td>0.138000</td>\n",
       "      <td>1.000000</td>\n",
       "      <td>0.045400</td>\n",
       "      <td>0.537000</td>\n",
       "    </tr>\n",
       "    <tr>\n",
       "      <th>75%</th>\n",
       "      <td>0.895000</td>\n",
       "      <td>0.668000</td>\n",
       "      <td>0.707000</td>\n",
       "      <td>0.000000</td>\n",
       "      <td>0.234000</td>\n",
       "      <td>0.270000</td>\n",
       "      <td>1.000000</td>\n",
       "      <td>0.076300</td>\n",
       "      <td>0.744000</td>\n",
       "    </tr>\n",
       "    <tr>\n",
       "      <th>max</th>\n",
       "      <td>0.996000</td>\n",
       "      <td>0.988000</td>\n",
       "      <td>1.000000</td>\n",
       "      <td>1.000000</td>\n",
       "      <td>1.000000</td>\n",
       "      <td>1.000000</td>\n",
       "      <td>1.000000</td>\n",
       "      <td>0.971000</td>\n",
       "      <td>1.000000</td>\n",
       "    </tr>\n",
       "  </tbody>\n",
       "</table>\n",
       "</div>"
      ],
      "text/plain": [
       "        acousticness   danceability         energy       explicit  \\\n",
       "count  129172.000000  129172.000000  129172.000000  129172.000000   \n",
       "mean        0.501950       0.536076       0.481096       0.067956   \n",
       "std         0.379088       0.175803       0.271778       0.251671   \n",
       "min         0.000000       0.000000       0.000000       0.000000   \n",
       "25%         0.091800       0.414000       0.248000       0.000000   \n",
       "50%         0.523000       0.547000       0.463000       0.000000   \n",
       "75%         0.895000       0.668000       0.707000       0.000000   \n",
       "max         0.996000       0.988000       1.000000       1.000000   \n",
       "\n",
       "       instrumentalness       liveness           mode    speechiness  \\\n",
       "count     129172.000000  129172.000000  129172.000000  129172.000000   \n",
       "mean           0.194286       0.211519       0.703868       0.105871   \n",
       "std            0.332443       0.180989       0.456552       0.182878   \n",
       "min            0.000000       0.000000       0.000000       0.000000   \n",
       "25%            0.000000       0.099300       0.000000       0.035100   \n",
       "50%            0.000482       0.138000       1.000000       0.045400   \n",
       "75%            0.234000       0.270000       1.000000       0.076300   \n",
       "max            1.000000       1.000000       1.000000       0.971000   \n",
       "\n",
       "             valence  \n",
       "count  129172.000000  \n",
       "mean        0.525167  \n",
       "std         0.264451  \n",
       "min         0.000000  \n",
       "25%         0.311000  \n",
       "50%         0.537000  \n",
       "75%         0.744000  \n",
       "max         1.000000  "
      ]
     },
     "execution_count": 6,
     "metadata": {},
     "output_type": "execute_result"
    }
   ],
   "source": [
    "music_df[[\n",
    "    'acousticness', 'danceability', 'energy', 'explicit', 'instrumentalness', 'liveness', 'mode', 'speechiness', 'valence'\n",
    "]].describe()"
   ]
  },
  {
   "cell_type": "code",
   "execution_count": 7,
   "id": "5ae9ed04",
   "metadata": {
    "ExecuteTime": {
     "end_time": "2023-11-04T08:26:49.784260Z",
     "start_time": "2023-11-04T08:26:49.564544Z"
    }
   },
   "outputs": [
    {
     "data": {
      "image/png": "[encoded data removed]",
      "text/plain": [
       "<Figure size 1000x300 with 1 Axes>"
      ]
     },
     "metadata": {},
     "output_type": "display_data"
    }
   ],
   "source": [
    "music_df[[\n",
    "    'acousticness', 'danceability', 'energy', 'explicit', 'instrumentalness', 'liveness', 'mode', 'speechiness', 'valence'\n",
    "]].plot(\n",
    "    kind='box',\n",
    "    figsize=(10,3),\n",
    "    title='음악 특성 분포'\n",
    ")\n",
    "\n",
    "plt.show()"
   ]
  },
  {
   "cell_type": "markdown",
   "id": "a4c4454f",
   "metadata": {},
   "source": [
    "우선 0 이상 1 이하의 분포를 가지는 9개 컬럼들의 분포를 확인해보았다."
   ]
  },
  {
   "cell_type": "code",
   "execution_count": 8,
   "id": "f16bf296",
   "metadata": {
    "ExecuteTime": {
     "end_time": "2023-11-04T08:26:50.053774Z",
     "start_time": "2023-11-04T08:26:49.785625Z"
    }
   },
   "outputs": [
    {
     "name": "stderr",
     "output_type": "stream",
     "text": [
      "C:\\Users\\louis\\anaconda3\\envs\\ml\\lib\\site-packages\\IPython\\core\\pylabtools.py:152: UserWarning: Glyph 8722 (\\N{MINUS SIGN}) missing from current font.\n",
      "  fig.canvas.print_figure(bytes_io, **kw)\n"
     ]
    },
    {
     "data": {
      "image/png": "[encoded data removed]",
      "text/plain": [
       "<Figure size 1500x500 with 4 Axes>"
      ]
     },
     "metadata": {},
     "output_type": "display_data"
    }
   ],
   "source": [
    "fig, axes = plt.subplots(ncols=4, nrows=1, figsize=(15,5))\n",
    "\n",
    "music_df['duration_ms'].plot(\n",
    "    kind='box',\n",
    "    title='duration 분포',\n",
    "    ax=axes[0]\n",
    ")\n",
    "\n",
    "music_df['key'].plot(\n",
    "    kind='box',\n",
    "    title='key 분포',\n",
    "    ax=axes[1]\n",
    ")\n",
    "\n",
    "music_df['loudness'].plot(\n",
    "    kind='box',\n",
    "    title='음악의 크기 분포(dB)',\n",
    "    yticks=[i for i in range(-60, 70, 10)],\n",
    "    ax=axes[2]\n",
    ")\n",
    "\n",
    "music_df['tempo'].plot(\n",
    "    kind='box',\n",
    "    title='음악의 빠르기 분포(BPM)',\n",
    "    ax=axes[3]\n",
    ")\n",
    "\n",
    "plt.show()"
   ]
  },
  {
   "cell_type": "markdown",
   "id": "11c6f4ad",
   "metadata": {},
   "source": [
    "이어서 다른 컬럼들의 분포도 확인해보았다. ```duration_ms```는 무엇을 나타내는 지표인지 잘 모르겠다. 음악의 크기(```loudness```)는 -10 근방에 뭉쳐있고, 음악의 빠르기(```tempo```)는 약 120BPM 정도에 몰려있음을 확인할 수 있다."
   ]
  },
  {
   "cell_type": "markdown",
   "id": "16949fe2",
   "metadata": {},
   "source": [
    "근데 BPM이 0인 애는 뭘까..."
   ]
  },
  {
   "cell_type": "code",
   "execution_count": 9,
   "id": "b6a0ee66",
   "metadata": {
    "ExecuteTime": {
     "end_time": "2023-11-04T08:26:50.084234Z",
     "start_time": "2023-11-04T08:26:50.054829Z"
    }
   },
   "outputs": [
    {
     "data": {
      "text/html": [
       "<div>\n",
       "<style scoped>\n",
       "    .dataframe tbody tr th:only-of-type {\n",
       "        vertical-align: middle;\n",
       "    }\n",
       "\n",
       "    .dataframe tbody tr th {\n",
       "        vertical-align: top;\n",
       "    }\n",
       "\n",
       "    .dataframe thead th {\n",
       "        text-align: right;\n",
       "    }\n",
       "</style>\n",
       "<table border=\"1\" class=\"dataframe\">\n",
       "  <thead>\n",
       "    <tr style=\"text-align: right;\">\n",
       "      <th></th>\n",
       "      <th>id</th>\n",
       "      <th>artists</th>\n",
       "      <th>name</th>\n",
       "      <th>year</th>\n",
       "      <th>acousticness</th>\n",
       "      <th>danceability</th>\n",
       "      <th>duration_ms</th>\n",
       "      <th>energy</th>\n",
       "      <th>explicit</th>\n",
       "      <th>instrumentalness</th>\n",
       "      <th>key</th>\n",
       "      <th>liveness</th>\n",
       "      <th>loudness</th>\n",
       "      <th>mode</th>\n",
       "      <th>release_date</th>\n",
       "      <th>speechiness</th>\n",
       "      <th>tempo</th>\n",
       "      <th>valence</th>\n",
       "      <th>popularity</th>\n",
       "    </tr>\n",
       "  </thead>\n",
       "  <tbody>\n",
       "    <tr>\n",
       "      <th>4414</th>\n",
       "      <td>0zr7DJGTPUfAUmjM7crmt2</td>\n",
       "      <td>['Connie Francis']</td>\n",
       "      <td>Hava Nagilah</td>\n",
       "      <td>1960</td>\n",
       "      <td>0.00000</td>\n",
       "      <td>0.0</td>\n",
       "      <td>179466</td>\n",
       "      <td>0.000000</td>\n",
       "      <td>0</td>\n",
       "      <td>0.000000</td>\n",
       "      <td>0</td>\n",
       "      <td>0.0000</td>\n",
       "      <td>-60.000</td>\n",
       "      <td>0</td>\n",
       "      <td>1960-01-01</td>\n",
       "      <td>0.0</td>\n",
       "      <td>0.0</td>\n",
       "      <td>0.0</td>\n",
       "      <td>12</td>\n",
       "    </tr>\n",
       "    <tr>\n",
       "      <th>6964</th>\n",
       "      <td>1C0h4SvAveezqMSeAo86XA</td>\n",
       "      <td>['White Noise Baby Sleep', 'White Noise for Ba...</td>\n",
       "      <td>The Early Morning Rain</td>\n",
       "      <td>2015</td>\n",
       "      <td>0.13900</td>\n",
       "      <td>0.0</td>\n",
       "      <td>87874</td>\n",
       "      <td>0.955000</td>\n",
       "      <td>0</td>\n",
       "      <td>0.997000</td>\n",
       "      <td>0</td>\n",
       "      <td>0.4250</td>\n",
       "      <td>-20.356</td>\n",
       "      <td>1</td>\n",
       "      <td>2015-06-06</td>\n",
       "      <td>0.0</td>\n",
       "      <td>0.0</td>\n",
       "      <td>0.0</td>\n",
       "      <td>67</td>\n",
       "    </tr>\n",
       "    <tr>\n",
       "      <th>7515</th>\n",
       "      <td>2LW9qKX9SwmpyMl9bU0rX7</td>\n",
       "      <td>['Lata Mangeshkar']</td>\n",
       "      <td>Aai Aai Raat Suhani, Pt. 1</td>\n",
       "      <td>1952</td>\n",
       "      <td>0.99200</td>\n",
       "      <td>0.0</td>\n",
       "      <td>179959</td>\n",
       "      <td>0.221000</td>\n",
       "      <td>0</td>\n",
       "      <td>0.196000</td>\n",
       "      <td>4</td>\n",
       "      <td>0.1360</td>\n",
       "      <td>-17.252</td>\n",
       "      <td>1</td>\n",
       "      <td>1952-01-01</td>\n",
       "      <td>0.0</td>\n",
       "      <td>0.0</td>\n",
       "      <td>0.0</td>\n",
       "      <td>0</td>\n",
       "    </tr>\n",
       "    <tr>\n",
       "      <th>10459</th>\n",
       "      <td>42uJ8brb7vxlgXD1HeBR8W</td>\n",
       "      <td>['The Ray Conniff Singers']</td>\n",
       "      <td>Edelweiss</td>\n",
       "      <td>1966</td>\n",
       "      <td>0.86200</td>\n",
       "      <td>0.0</td>\n",
       "      <td>123667</td>\n",
       "      <td>0.176000</td>\n",
       "      <td>0</td>\n",
       "      <td>0.000003</td>\n",
       "      <td>10</td>\n",
       "      <td>0.2510</td>\n",
       "      <td>-17.547</td>\n",
       "      <td>1</td>\n",
       "      <td>1966</td>\n",
       "      <td>0.0</td>\n",
       "      <td>0.0</td>\n",
       "      <td>0.0</td>\n",
       "      <td>24</td>\n",
       "    </tr>\n",
       "    <tr>\n",
       "      <th>13418</th>\n",
       "      <td>2WTtJDfCUjAyCZHRSfCLDn</td>\n",
       "      <td>['Ignacio Corsini']</td>\n",
       "      <td>La Mina del Ford - Remasterizado</td>\n",
       "      <td>1924</td>\n",
       "      <td>0.99600</td>\n",
       "      <td>0.0</td>\n",
       "      <td>133947</td>\n",
       "      <td>0.025800</td>\n",
       "      <td>0</td>\n",
       "      <td>0.768000</td>\n",
       "      <td>5</td>\n",
       "      <td>0.0831</td>\n",
       "      <td>-24.894</td>\n",
       "      <td>1</td>\n",
       "      <td>1924-03-29</td>\n",
       "      <td>0.0</td>\n",
       "      <td>0.0</td>\n",
       "      <td>0.0</td>\n",
       "      <td>0</td>\n",
       "    </tr>\n",
       "    <tr>\n",
       "      <th>...</th>\n",
       "      <td>...</td>\n",
       "      <td>...</td>\n",
       "      <td>...</td>\n",
       "      <td>...</td>\n",
       "      <td>...</td>\n",
       "      <td>...</td>\n",
       "      <td>...</td>\n",
       "      <td>...</td>\n",
       "      <td>...</td>\n",
       "      <td>...</td>\n",
       "      <td>...</td>\n",
       "      <td>...</td>\n",
       "      <td>...</td>\n",
       "      <td>...</td>\n",
       "      <td>...</td>\n",
       "      <td>...</td>\n",
       "      <td>...</td>\n",
       "      <td>...</td>\n",
       "      <td>...</td>\n",
       "    </tr>\n",
       "    <tr>\n",
       "      <th>126491</th>\n",
       "      <td>6QDz33bkO1vJEN0ZdrzEqb</td>\n",
       "      <td>['Players_Select']</td>\n",
       "      <td>Game over (From \"Streets of Rage\") [Genesis Mix]</td>\n",
       "      <td>1920</td>\n",
       "      <td>0.73400</td>\n",
       "      <td>0.0</td>\n",
       "      <td>6250</td>\n",
       "      <td>0.467000</td>\n",
       "      <td>0</td>\n",
       "      <td>0.993000</td>\n",
       "      <td>2</td>\n",
       "      <td>0.0000</td>\n",
       "      <td>-8.288</td>\n",
       "      <td>1</td>\n",
       "      <td>1920-01-04</td>\n",
       "      <td>0.0</td>\n",
       "      <td>0.0</td>\n",
       "      <td>0.0</td>\n",
       "      <td>0</td>\n",
       "    </tr>\n",
       "    <tr>\n",
       "      <th>128490</th>\n",
       "      <td>0BEGv9OVHC33uI0jBeWMIZ</td>\n",
       "      <td>['Sergei Prokofiev', 'William Kapell']</td>\n",
       "      <td>Sonata No. 7 in B-Flat, Op. 83: Allegro inquie...</td>\n",
       "      <td>1945</td>\n",
       "      <td>0.77300</td>\n",
       "      <td>0.0</td>\n",
       "      <td>497267</td>\n",
       "      <td>0.129000</td>\n",
       "      <td>0</td>\n",
       "      <td>0.098800</td>\n",
       "      <td>5</td>\n",
       "      <td>0.2840</td>\n",
       "      <td>-20.528</td>\n",
       "      <td>0</td>\n",
       "      <td>1945</td>\n",
       "      <td>0.0</td>\n",
       "      <td>0.0</td>\n",
       "      <td>0.0</td>\n",
       "      <td>0</td>\n",
       "    </tr>\n",
       "    <tr>\n",
       "      <th>128522</th>\n",
       "      <td>5X8Hut4pmjxDUd8bYfFqjb</td>\n",
       "      <td>['The White Noise Zen &amp; Meditation Sound Lab']</td>\n",
       "      <td>Calm Rain Storm &amp; Gentle White Noise</td>\n",
       "      <td>2016</td>\n",
       "      <td>0.00119</td>\n",
       "      <td>0.0</td>\n",
       "      <td>148000</td>\n",
       "      <td>0.342000</td>\n",
       "      <td>0</td>\n",
       "      <td>1.000000</td>\n",
       "      <td>9</td>\n",
       "      <td>0.3920</td>\n",
       "      <td>-14.959</td>\n",
       "      <td>0</td>\n",
       "      <td>2016-02-11</td>\n",
       "      <td>0.0</td>\n",
       "      <td>0.0</td>\n",
       "      <td>0.0</td>\n",
       "      <td>60</td>\n",
       "    </tr>\n",
       "    <tr>\n",
       "      <th>128837</th>\n",
       "      <td>6jbDzD5bYs1uzpDvRjCK7y</td>\n",
       "      <td>['Time Bomb Symphony']</td>\n",
       "      <td>You R Heaven</td>\n",
       "      <td>1998</td>\n",
       "      <td>0.00000</td>\n",
       "      <td>0.0</td>\n",
       "      <td>64840</td>\n",
       "      <td>0.000000</td>\n",
       "      <td>0</td>\n",
       "      <td>0.000000</td>\n",
       "      <td>2</td>\n",
       "      <td>0.0000</td>\n",
       "      <td>-60.000</td>\n",
       "      <td>1</td>\n",
       "      <td>1998</td>\n",
       "      <td>0.0</td>\n",
       "      <td>0.0</td>\n",
       "      <td>0.0</td>\n",
       "      <td>33</td>\n",
       "    </tr>\n",
       "    <tr>\n",
       "      <th>129150</th>\n",
       "      <td>5fD4liUw1zytutz64zFlX7</td>\n",
       "      <td>['Sound Library XL']</td>\n",
       "      <td>Sleep Rain</td>\n",
       "      <td>2014</td>\n",
       "      <td>0.00000</td>\n",
       "      <td>0.0</td>\n",
       "      <td>109126</td>\n",
       "      <td>0.000819</td>\n",
       "      <td>0</td>\n",
       "      <td>0.818000</td>\n",
       "      <td>7</td>\n",
       "      <td>0.4530</td>\n",
       "      <td>-20.590</td>\n",
       "      <td>1</td>\n",
       "      <td>2014-12-02</td>\n",
       "      <td>0.0</td>\n",
       "      <td>0.0</td>\n",
       "      <td>0.0</td>\n",
       "      <td>60</td>\n",
       "    </tr>\n",
       "  </tbody>\n",
       "</table>\n",
       "<p>96 rows × 19 columns</p>\n",
       "</div>"
      ],
      "text/plain": [
       "                            id  \\\n",
       "4414    0zr7DJGTPUfAUmjM7crmt2   \n",
       "6964    1C0h4SvAveezqMSeAo86XA   \n",
       "7515    2LW9qKX9SwmpyMl9bU0rX7   \n",
       "10459   42uJ8brb7vxlgXD1HeBR8W   \n",
       "13418   2WTtJDfCUjAyCZHRSfCLDn   \n",
       "...                        ...   \n",
       "126491  6QDz33bkO1vJEN0ZdrzEqb   \n",
       "128490  0BEGv9OVHC33uI0jBeWMIZ   \n",
       "128522  5X8Hut4pmjxDUd8bYfFqjb   \n",
       "128837  6jbDzD5bYs1uzpDvRjCK7y   \n",
       "129150  5fD4liUw1zytutz64zFlX7   \n",
       "\n",
       "                                                  artists  \\\n",
       "4414                                   ['Connie Francis']   \n",
       "6964    ['White Noise Baby Sleep', 'White Noise for Ba...   \n",
       "7515                                  ['Lata Mangeshkar']   \n",
       "10459                         ['The Ray Conniff Singers']   \n",
       "13418                                 ['Ignacio Corsini']   \n",
       "...                                                   ...   \n",
       "126491                                 ['Players_Select']   \n",
       "128490             ['Sergei Prokofiev', 'William Kapell']   \n",
       "128522     ['The White Noise Zen & Meditation Sound Lab']   \n",
       "128837                             ['Time Bomb Symphony']   \n",
       "129150                               ['Sound Library XL']   \n",
       "\n",
       "                                                     name  year  acousticness  \\\n",
       "4414                                         Hava Nagilah  1960       0.00000   \n",
       "6964                               The Early Morning Rain  2015       0.13900   \n",
       "7515                           Aai Aai Raat Suhani, Pt. 1  1952       0.99200   \n",
       "10459                                           Edelweiss  1966       0.86200   \n",
       "13418                    La Mina del Ford - Remasterizado  1924       0.99600   \n",
       "...                                                   ...   ...           ...   \n",
       "126491   Game over (From \"Streets of Rage\") [Genesis Mix]  1920       0.73400   \n",
       "128490  Sonata No. 7 in B-Flat, Op. 83: Allegro inquie...  1945       0.77300   \n",
       "128522               Calm Rain Storm & Gentle White Noise  2016       0.00119   \n",
       "128837                                       You R Heaven  1998       0.00000   \n",
       "129150                                         Sleep Rain  2014       0.00000   \n",
       "\n",
       "        danceability  duration_ms    energy  explicit  instrumentalness  key  \\\n",
       "4414             0.0       179466  0.000000         0          0.000000    0   \n",
       "6964             0.0        87874  0.955000         0          0.997000    0   \n",
       "7515             0.0       179959  0.221000         0          0.196000    4   \n",
       "10459            0.0       123667  0.176000         0          0.000003   10   \n",
       "13418            0.0       133947  0.025800         0          0.768000    5   \n",
       "...              ...          ...       ...       ...               ...  ...   \n",
       "126491           0.0         6250  0.467000         0          0.993000    2   \n",
       "128490           0.0       497267  0.129000         0          0.098800    5   \n",
       "128522           0.0       148000  0.342000         0          1.000000    9   \n",
       "128837           0.0        64840  0.000000         0          0.000000    2   \n",
       "129150           0.0       109126  0.000819         0          0.818000    7   \n",
       "\n",
       "        liveness  loudness  mode release_date  speechiness  tempo  valence  \\\n",
       "4414      0.0000   -60.000     0   1960-01-01          0.0    0.0      0.0   \n",
       "6964      0.4250   -20.356     1   2015-06-06          0.0    0.0      0.0   \n",
       "7515      0.1360   -17.252     1   1952-01-01          0.0    0.0      0.0   \n",
       "10459     0.2510   -17.547     1         1966          0.0    0.0      0.0   \n",
       "13418     0.0831   -24.894     1   1924-03-29          0.0    0.0      0.0   \n",
       "...          ...       ...   ...          ...          ...    ...      ...   \n",
       "126491    0.0000    -8.288     1   1920-01-04          0.0    0.0      0.0   \n",
       "128490    0.2840   -20.528     0         1945          0.0    0.0      0.0   \n",
       "128522    0.3920   -14.959     0   2016-02-11          0.0    0.0      0.0   \n",
       "128837    0.0000   -60.000     1         1998          0.0    0.0      0.0   \n",
       "129150    0.4530   -20.590     1   2014-12-02          0.0    0.0      0.0   \n",
       "\n",
       "        popularity  \n",
       "4414            12  \n",
       "6964            67  \n",
       "7515             0  \n",
       "10459           24  \n",
       "13418            0  \n",
       "...            ...  \n",
       "126491           0  \n",
       "128490           0  \n",
       "128522          60  \n",
       "128837          33  \n",
       "129150          60  \n",
       "\n",
       "[96 rows x 19 columns]"
      ]
     },
     "execution_count": 9,
     "metadata": {},
     "output_type": "execute_result"
    }
   ],
   "source": [
    "music_df[music_df['tempo'] == 0]"
   ]
  },
  {
   "cell_type": "markdown",
   "id": "f4f223bb",
   "metadata": {},
   "source": [
    "그냥 단순 결측치인가 싶다."
   ]
  },
  {
   "cell_type": "markdown",
   "id": "b3114047",
   "metadata": {},
   "source": [
    "### 2-4. 인기도(종속변수) 분포 확인"
   ]
  },
  {
   "cell_type": "code",
   "execution_count": 10,
   "id": "9deea795",
   "metadata": {
    "ExecuteTime": {
     "end_time": "2023-11-04T08:26:50.163163Z",
     "start_time": "2023-11-04T08:26:50.087234Z"
    }
   },
   "outputs": [
    {
     "data": {
      "image/png": "[encoded data removed]",
      "text/plain": [
       "<Figure size 640x480 with 1 Axes>"
      ]
     },
     "metadata": {},
     "output_type": "display_data"
    }
   ],
   "source": [
    "music_df['popularity'].plot(\n",
    "    kind='box',\n",
    "    title='인기도 분포'\n",
    ")\n",
    "plt.show()"
   ]
  },
  {
   "cell_type": "markdown",
   "id": "2886f637",
   "metadata": {},
   "source": [
    "30 근방에 가장 많은 데이터가 분포하고 있고, 대부분의 데이터가 40 이하에 몰려있다."
   ]
  },
  {
   "cell_type": "markdown",
   "id": "2096a22b",
   "metadata": {},
   "source": [
    "## 3. 데이터 전처리"
   ]
  },
  {
   "cell_type": "markdown",
   "id": "0babbcae",
   "metadata": {},
   "source": [
    "### 3-1. 상관관계 알아보기"
   ]
  },
  {
   "cell_type": "code",
   "execution_count": 11,
   "id": "ef8bc191",
   "metadata": {
    "ExecuteTime": {
     "end_time": "2023-11-04T08:26:51.063870Z",
     "start_time": "2023-11-04T08:26:50.164538Z"
    }
   },
   "outputs": [
    {
     "name": "stderr",
     "output_type": "stream",
     "text": [
      "C:\\Users\\louis\\AppData\\Local\\Temp\\ipykernel_28796\\1670774256.py:4: FutureWarning: The default value of numeric_only in DataFrame.corr is deprecated. In a future version, it will default to False. Select only valid columns or specify the value of numeric_only to silence this warning.\n",
      "  correlation_matrix = music_df.corr()\n",
      "C:\\Users\\louis\\anaconda3\\envs\\ml\\lib\\site-packages\\seaborn\\utils.py:80: UserWarning: Glyph 8722 (\\N{MINUS SIGN}) missing from current font.\n",
      "  fig.canvas.draw()\n",
      "C:\\Users\\louis\\anaconda3\\envs\\ml\\lib\\site-packages\\IPython\\core\\pylabtools.py:152: UserWarning: Glyph 8722 (\\N{MINUS SIGN}) missing from current font.\n",
      "  fig.canvas.print_figure(bytes_io, **kw)\n"
     ]
    },
    {
     "data": {
      "image/png": "[encoded data removed]",
      "text/plain": [
       "<Figure size 1500x1500 with 2 Axes>"
      ]
     },
     "metadata": {},
     "output_type": "display_data"
    }
   ],
   "source": [
    "import seaborn as sns\n",
    "\n",
    "plt.figure(figsize=(15,15))\n",
    "correlation_matrix = music_df.corr()\n",
    "sns.heatmap(correlation_matrix, annot=True, cmap='coolwarm')\n",
    "plt.show()"
   ]
  },
  {
   "cell_type": "markdown",
   "id": "96e852cb",
   "metadata": {},
   "source": [
    "눈에 띄는 점\n",
    "- ```energy```와 ```loudness```의 양의 관계가 꽤 짙다. 역시 데시벨이 높을수록 에너제틱한 음악이 나오는 것 같다.\n",
    "- ```energy```와 ```acousticness```의 음의 관계도 마찬가지 맥락에서, 어쿠스틱할수록 에너지는 떨어짐을 의미할 것이다.\n",
    "- ```year```과 ```acousticness```에 음의 관계가 뚜렷한데 과거로 갈수록 어쿠스틱한 노래들이 많음을 나타낼 것이다.\n",
    "- 종속변수인 ```popularity```와 각 변수들 간의 상관관계는 그리 뚜렷하게 나타나지 않는다. 그나마 ```year```과의 양의 관계가 보이는데, 최신 음악일수록 인기도가 높다는 것은 나날이 음악 시장에 대한 주목도가 높아지고 있음을 뜻할지도 모르겠다."
   ]
  },
  {
   "cell_type": "markdown",
   "id": "6c8ba5cd",
   "metadata": {},
   "source": [
    "### 3-2. 컬럼 선정"
   ]
  },
  {
   "cell_type": "markdown",
   "id": "d4648f80",
   "metadata": {},
   "source": [
    "입력변수들 사이에 강한 선형 관계가 존재하는 경우 **다중 공선성** 문제가 생길 수 있다. 그러므로 correlation matrix에서 선형 관계가 짙은 것으로 판별된 것들을 제외할 필요가 있다."
   ]
  },
  {
   "cell_type": "code",
   "execution_count": 2,
   "id": "e4fe9ccf",
   "metadata": {
    "ExecuteTime": {
     "end_time": "2023-11-05T05:51:56.955009Z",
     "start_time": "2023-11-05T05:51:56.934668Z"
    }
   },
   "outputs": [],
   "source": [
    "drop_features = ['id', 'artists', 'name', 'year', 'energy', 'release_date']"
   ]
  },
  {
   "cell_type": "code",
   "execution_count": 3,
   "id": "e476613d",
   "metadata": {
    "ExecuteTime": {
     "end_time": "2023-11-05T05:51:57.467124Z",
     "start_time": "2023-11-05T05:51:57.444193Z"
    }
   },
   "outputs": [
    {
     "name": "stdout",
     "output_type": "stream",
     "text": [
      "X:  ['acousticness' 'danceability' 'duration_ms' 'explicit' 'instrumentalness'\n",
      " 'key' 'liveness' 'loudness' 'mode' 'speechiness' 'tempo' 'valence'] (129172, 12)\n",
      "y:  popularity (129172,)\n"
     ]
    }
   ],
   "source": [
    "X = music_df.drop(drop_features, axis=1).drop('popularity', axis=1)\n",
    "y = music_df['popularity']\n",
    "\n",
    "print(\"X: \", X.columns.values, X.shape)\n",
    "print(\"y: \", y.name, y.shape)"
   ]
  },
  {
   "cell_type": "markdown",
   "id": "7325181f",
   "metadata": {},
   "source": [
    "### 3-3. 데이터 스플릿"
   ]
  },
  {
   "cell_type": "code",
   "execution_count": 4,
   "id": "25b1a1e6",
   "metadata": {
    "ExecuteTime": {
     "end_time": "2023-11-05T05:51:59.028611Z",
     "start_time": "2023-11-05T05:51:59.014668Z"
    }
   },
   "outputs": [],
   "source": [
    "import numpy as np\n",
    "\n",
    "# 랜덤 시드\n",
    "np.random.seed(42)"
   ]
  },
  {
   "cell_type": "code",
   "execution_count": 5,
   "id": "48e04b58",
   "metadata": {
    "ExecuteTime": {
     "end_time": "2023-11-05T05:52:00.551348Z",
     "start_time": "2023-11-05T05:51:59.474273Z"
    }
   },
   "outputs": [
    {
     "name": "stdout",
     "output_type": "stream",
     "text": [
      "(103337, 12) (25835, 12) (103337,) (25835,)\n"
     ]
    }
   ],
   "source": [
    "from sklearn.model_selection import train_test_split\n",
    "\n",
    "# train, val 분리\n",
    "X_train, X_val, y_train, y_val = train_test_split(X, y, test_size=0.2, shuffle=True)\n",
    "\n",
    "print(X_train.shape, X_val.shape, y_train.shape, y_val.shape)"
   ]
  },
  {
   "cell_type": "markdown",
   "id": "a0b93592",
   "metadata": {},
   "source": [
    "## 4. 모델 학습"
   ]
  },
  {
   "cell_type": "markdown",
   "id": "6195aba4",
   "metadata": {},
   "source": [
    "### 4-1. 여러 회귀 모델 성능 비교"
   ]
  },
  {
   "cell_type": "code",
   "execution_count": 7,
   "id": "1c073550",
   "metadata": {
    "ExecuteTime": {
     "end_time": "2023-11-05T05:53:24.801686Z",
     "start_time": "2023-11-05T05:53:24.342691Z"
    }
   },
   "outputs": [],
   "source": [
    "from sklearn.linear_model import LinearRegression\n",
    "from sklearn.tree import DecisionTreeRegressor\n",
    "from sklearn.ensemble import RandomForestRegressor\n",
    "from sklearn.neighbors import KNeighborsRegressor\n",
    "from xgboost import XGBRegressor\n",
    "from lightgbm import LGBMRegressor\n",
    "from sklearn.metrics import make_scorer, mean_squared_error\n",
    "\n",
    "# 모델 생성\n",
    "models = {\n",
    "    \"Linear Regression\": LinearRegression(),\n",
    "    \"Decision Tree Regression\": DecisionTreeRegressor(),\n",
    "    \"Random Forest Regression\": RandomForestRegressor(),\n",
    "    \"K-Nearest Neighbors (KNN)\": KNeighborsRegressor(),\n",
    "    \"XGBoost\": XGBRegressor(tree_method = \"hist\", device = \"cuda\"),\n",
    "    \"LightGBM\": LGBMRegressor(verbosity=-1, device_type='gpu') #verbosity: 그냥 돌리면 자꾸 딴 말 나와서 -1로 설정\n",
    "}"
   ]
  },
  {
   "cell_type": "code",
   "execution_count": 74,
   "id": "a32789a0",
   "metadata": {
    "ExecuteTime": {
     "end_time": "2023-11-04T10:05:54.709786Z",
     "start_time": "2023-11-04T10:03:57.496788Z"
    }
   },
   "outputs": [
    {
     "name": "stdout",
     "output_type": "stream",
     "text": [
      "[Linear Regression] ... 18.36382537519192 / 0:00:00.035900\n",
      "[Decision Tree Regression] ... 22.348716529296073 / 0:00:01.207346\n",
      "[Random Forest Regression] ... 15.84272642502856 / 0:01:54.536049\n",
      "[K-Nearest Neighbors (KNN)] ... 22.004172695758697 / 0:00:00.241629\n",
      "[XGBoost] ... 16.1099277161173 / 0:00:00.579730\n",
      "[LightGBM] ... 16.146378482218605 / 0:00:00.591861\n"
     ]
    }
   ],
   "source": [
    "from sklearn.metrics import mean_squared_error\n",
    "from datetime import datetime\n",
    "\n",
    "# 검증 수행 및 RMSE 평가\n",
    "results = {}\n",
    "for model_name, model in models.items():\n",
    "    print(f\"[{model_name}] ... \", end='')\n",
    "    start = datetime.now()\n",
    "    model.fit(X_train, y_train)\n",
    "    y_pred = model.predict(X_val)\n",
    "    rmse = np.sqrt(mean_squared_error(y_val, y_pred))\n",
    "    results[model_name] = rmse\n",
    "    end = datetime.now()\n",
    "    print(f\"{rmse} / {end - start}\")"
   ]
  },
  {
   "cell_type": "code",
   "execution_count": 61,
   "id": "b47db934",
   "metadata": {
    "ExecuteTime": {
     "end_time": "2023-11-04T09:56:06.674598Z",
     "start_time": "2023-11-04T09:56:06.653675Z"
    }
   },
   "outputs": [
    {
     "data": {
      "text/html": [
       "<div>\n",
       "<style scoped>\n",
       "    .dataframe tbody tr th:only-of-type {\n",
       "        vertical-align: middle;\n",
       "    }\n",
       "\n",
       "    .dataframe tbody tr th {\n",
       "        vertical-align: top;\n",
       "    }\n",
       "\n",
       "    .dataframe thead th {\n",
       "        text-align: right;\n",
       "    }\n",
       "</style>\n",
       "<table border=\"1\" class=\"dataframe\">\n",
       "  <thead>\n",
       "    <tr style=\"text-align: right;\">\n",
       "      <th></th>\n",
       "      <th>model</th>\n",
       "      <th>RMSE</th>\n",
       "    </tr>\n",
       "  </thead>\n",
       "  <tbody>\n",
       "    <tr>\n",
       "      <th>0</th>\n",
       "      <td>Random Forest Regression</td>\n",
       "      <td>15.880906</td>\n",
       "    </tr>\n",
       "    <tr>\n",
       "      <th>1</th>\n",
       "      <td>XGBoost</td>\n",
       "      <td>16.109928</td>\n",
       "    </tr>\n",
       "    <tr>\n",
       "      <th>2</th>\n",
       "      <td>LightGBM</td>\n",
       "      <td>16.146378</td>\n",
       "    </tr>\n",
       "    <tr>\n",
       "      <th>3</th>\n",
       "      <td>Linear Regression</td>\n",
       "      <td>18.363825</td>\n",
       "    </tr>\n",
       "    <tr>\n",
       "      <th>4</th>\n",
       "      <td>K-Nearest Neighbors (KNN)</td>\n",
       "      <td>22.004173</td>\n",
       "    </tr>\n",
       "    <tr>\n",
       "      <th>5</th>\n",
       "      <td>Decision Tree Regression</td>\n",
       "      <td>22.436567</td>\n",
       "    </tr>\n",
       "  </tbody>\n",
       "</table>\n",
       "</div>"
      ],
      "text/plain": [
       "                       model       RMSE\n",
       "0   Random Forest Regression  15.880906\n",
       "1                    XGBoost  16.109928\n",
       "2                   LightGBM  16.146378\n",
       "3          Linear Regression  18.363825\n",
       "4  K-Nearest Neighbors (KNN)  22.004173\n",
       "5   Decision Tree Regression  22.436567"
      ]
     },
     "execution_count": 61,
     "metadata": {},
     "output_type": "execute_result"
    }
   ],
   "source": [
    "# 가장 성능 좋았던 모델 확인\n",
    "pd.DataFrame(sorted(results.items(), key=lambda x:x[1]), columns=['model', 'RMSE'])"
   ]
  },
  {
   "cell_type": "markdown",
   "id": "fea38766",
   "metadata": {},
   "source": [
    "랜덤포레스트가 가장 높은 성능을 보인다. 하지만 랜덤포레스트는 넘 오래 걸린다... 그리고 나는 XGBoost와 LightGBM도 써보고 싶다."
   ]
  },
  {
   "cell_type": "markdown",
   "id": "a6a60e7f",
   "metadata": {},
   "source": [
    "### 4-2. 하이퍼파라미터 튜닝"
   ]
  },
  {
   "cell_type": "markdown",
   "id": "f10e4cef",
   "metadata": {},
   "source": [
    "#### 4-2-1. RandomForestRegressor"
   ]
  },
  {
   "cell_type": "markdown",
   "id": "7d3dedc3",
   "metadata": {},
   "source": [
    "원래는 그리드 서치를 하려고 했으나 세션이 자꾸 터지는 관계로... 하나씩 튜닝"
   ]
  },
  {
   "cell_type": "code",
   "execution_count": 52,
   "id": "a5b787c7",
   "metadata": {
    "ExecuteTime": {
     "end_time": "2023-11-05T06:12:13.215369Z",
     "start_time": "2023-11-05T06:12:08.958759Z"
    },
    "collapsed": true
   },
   "outputs": [
    {
     "ename": "KeyboardInterrupt",
     "evalue": "",
     "output_type": "error",
     "traceback": [
      "\u001b[1;31m---------------------------------------------------------------------------\u001b[0m",
      "\u001b[1;31mKeyboardInterrupt\u001b[0m                         Traceback (most recent call last)",
      "Cell \u001b[1;32mIn[52], line 14\u001b[0m\n\u001b[0;32m      6\u001b[0m \u001b[38;5;66;03m# Random Forest 모델 정의\u001b[39;00m\n\u001b[0;32m      7\u001b[0m model \u001b[38;5;241m=\u001b[39m RandomForestRegressor(\n\u001b[0;32m      8\u001b[0m     n_estimators\u001b[38;5;241m=\u001b[39m\u001b[38;5;241m300\u001b[39m,\n\u001b[0;32m      9\u001b[0m     max_depth\u001b[38;5;241m=\u001b[39m\u001b[38;5;241m10\u001b[39m,\n\u001b[0;32m     10\u001b[0m     min_samples_split\u001b[38;5;241m=\u001b[39m\u001b[38;5;241m10\u001b[39m,\n\u001b[0;32m     11\u001b[0m     min_samples_leaf\u001b[38;5;241m=\u001b[39m\u001b[38;5;241m3\u001b[39m\n\u001b[0;32m     12\u001b[0m )\n\u001b[1;32m---> 14\u001b[0m \u001b[43mmodel\u001b[49m\u001b[38;5;241;43m.\u001b[39;49m\u001b[43mfit\u001b[49m\u001b[43m(\u001b[49m\u001b[43mX_train\u001b[49m\u001b[43m,\u001b[49m\u001b[43m \u001b[49m\u001b[43my_train\u001b[49m\u001b[43m)\u001b[49m\n\u001b[0;32m     15\u001b[0m y_pred \u001b[38;5;241m=\u001b[39m model\u001b[38;5;241m.\u001b[39mpredict(X_val)\n\u001b[0;32m     16\u001b[0m rmse \u001b[38;5;241m=\u001b[39m np\u001b[38;5;241m.\u001b[39msqrt(mean_squared_error(y_val, y_pred))\n",
      "File \u001b[1;32m~\\anaconda3\\envs\\ml\\lib\\site-packages\\sklearn\\ensemble\\_forest.py:473\u001b[0m, in \u001b[0;36mBaseForest.fit\u001b[1;34m(self, X, y, sample_weight)\u001b[0m\n\u001b[0;32m    462\u001b[0m trees \u001b[38;5;241m=\u001b[39m [\n\u001b[0;32m    463\u001b[0m     \u001b[38;5;28mself\u001b[39m\u001b[38;5;241m.\u001b[39m_make_estimator(append\u001b[38;5;241m=\u001b[39m\u001b[38;5;28;01mFalse\u001b[39;00m, random_state\u001b[38;5;241m=\u001b[39mrandom_state)\n\u001b[0;32m    464\u001b[0m     \u001b[38;5;28;01mfor\u001b[39;00m i \u001b[38;5;129;01min\u001b[39;00m \u001b[38;5;28mrange\u001b[39m(n_more_estimators)\n\u001b[0;32m    465\u001b[0m ]\n\u001b[0;32m    467\u001b[0m \u001b[38;5;66;03m# Parallel loop: we prefer the threading backend as the Cython code\u001b[39;00m\n\u001b[0;32m    468\u001b[0m \u001b[38;5;66;03m# for fitting the trees is internally releasing the Python GIL\u001b[39;00m\n\u001b[0;32m    469\u001b[0m \u001b[38;5;66;03m# making threading more efficient than multiprocessing in\u001b[39;00m\n\u001b[0;32m    470\u001b[0m \u001b[38;5;66;03m# that case. However, for joblib 0.12+ we respect any\u001b[39;00m\n\u001b[0;32m    471\u001b[0m \u001b[38;5;66;03m# parallel_backend contexts set at a higher level,\u001b[39;00m\n\u001b[0;32m    472\u001b[0m \u001b[38;5;66;03m# since correctness does not rely on using threads.\u001b[39;00m\n\u001b[1;32m--> 473\u001b[0m trees \u001b[38;5;241m=\u001b[39m \u001b[43mParallel\u001b[49m\u001b[43m(\u001b[49m\n\u001b[0;32m    474\u001b[0m \u001b[43m    \u001b[49m\u001b[43mn_jobs\u001b[49m\u001b[38;5;241;43m=\u001b[39;49m\u001b[38;5;28;43mself\u001b[39;49m\u001b[38;5;241;43m.\u001b[39;49m\u001b[43mn_jobs\u001b[49m\u001b[43m,\u001b[49m\n\u001b[0;32m    475\u001b[0m \u001b[43m    \u001b[49m\u001b[43mverbose\u001b[49m\u001b[38;5;241;43m=\u001b[39;49m\u001b[38;5;28;43mself\u001b[39;49m\u001b[38;5;241;43m.\u001b[39;49m\u001b[43mverbose\u001b[49m\u001b[43m,\u001b[49m\n\u001b[0;32m    476\u001b[0m \u001b[43m    \u001b[49m\u001b[43mprefer\u001b[49m\u001b[38;5;241;43m=\u001b[39;49m\u001b[38;5;124;43m\"\u001b[39;49m\u001b[38;5;124;43mthreads\u001b[39;49m\u001b[38;5;124;43m\"\u001b[39;49m\u001b[43m,\u001b[49m\n\u001b[0;32m    477\u001b[0m \u001b[43m\u001b[49m\u001b[43m)\u001b[49m\u001b[43m(\u001b[49m\n\u001b[0;32m    478\u001b[0m \u001b[43m    \u001b[49m\u001b[43mdelayed\u001b[49m\u001b[43m(\u001b[49m\u001b[43m_parallel_build_trees\u001b[49m\u001b[43m)\u001b[49m\u001b[43m(\u001b[49m\n\u001b[0;32m    479\u001b[0m \u001b[43m        \u001b[49m\u001b[43mt\u001b[49m\u001b[43m,\u001b[49m\n\u001b[0;32m    480\u001b[0m \u001b[43m        \u001b[49m\u001b[38;5;28;43mself\u001b[39;49m\u001b[38;5;241;43m.\u001b[39;49m\u001b[43mbootstrap\u001b[49m\u001b[43m,\u001b[49m\n\u001b[0;32m    481\u001b[0m \u001b[43m        \u001b[49m\u001b[43mX\u001b[49m\u001b[43m,\u001b[49m\n\u001b[0;32m    482\u001b[0m \u001b[43m        \u001b[49m\u001b[43my\u001b[49m\u001b[43m,\u001b[49m\n\u001b[0;32m    483\u001b[0m \u001b[43m        \u001b[49m\u001b[43msample_weight\u001b[49m\u001b[43m,\u001b[49m\n\u001b[0;32m    484\u001b[0m \u001b[43m        \u001b[49m\u001b[43mi\u001b[49m\u001b[43m,\u001b[49m\n\u001b[0;32m    485\u001b[0m \u001b[43m        \u001b[49m\u001b[38;5;28;43mlen\u001b[39;49m\u001b[43m(\u001b[49m\u001b[43mtrees\u001b[49m\u001b[43m)\u001b[49m\u001b[43m,\u001b[49m\n\u001b[0;32m    486\u001b[0m \u001b[43m        \u001b[49m\u001b[43mverbose\u001b[49m\u001b[38;5;241;43m=\u001b[39;49m\u001b[38;5;28;43mself\u001b[39;49m\u001b[38;5;241;43m.\u001b[39;49m\u001b[43mverbose\u001b[49m\u001b[43m,\u001b[49m\n\u001b[0;32m    487\u001b[0m \u001b[43m        \u001b[49m\u001b[43mclass_weight\u001b[49m\u001b[38;5;241;43m=\u001b[39;49m\u001b[38;5;28;43mself\u001b[39;49m\u001b[38;5;241;43m.\u001b[39;49m\u001b[43mclass_weight\u001b[49m\u001b[43m,\u001b[49m\n\u001b[0;32m    488\u001b[0m \u001b[43m        \u001b[49m\u001b[43mn_samples_bootstrap\u001b[49m\u001b[38;5;241;43m=\u001b[39;49m\u001b[43mn_samples_bootstrap\u001b[49m\u001b[43m,\u001b[49m\n\u001b[0;32m    489\u001b[0m \u001b[43m    \u001b[49m\u001b[43m)\u001b[49m\n\u001b[0;32m    490\u001b[0m \u001b[43m    \u001b[49m\u001b[38;5;28;43;01mfor\u001b[39;49;00m\u001b[43m \u001b[49m\u001b[43mi\u001b[49m\u001b[43m,\u001b[49m\u001b[43m \u001b[49m\u001b[43mt\u001b[49m\u001b[43m \u001b[49m\u001b[38;5;129;43;01min\u001b[39;49;00m\u001b[43m \u001b[49m\u001b[38;5;28;43menumerate\u001b[39;49m\u001b[43m(\u001b[49m\u001b[43mtrees\u001b[49m\u001b[43m)\u001b[49m\n\u001b[0;32m    491\u001b[0m \u001b[43m\u001b[49m\u001b[43m)\u001b[49m\n\u001b[0;32m    493\u001b[0m \u001b[38;5;66;03m# Collect newly grown trees\u001b[39;00m\n\u001b[0;32m    494\u001b[0m \u001b[38;5;28mself\u001b[39m\u001b[38;5;241m.\u001b[39mestimators_\u001b[38;5;241m.\u001b[39mextend(trees)\n",
      "File \u001b[1;32m~\\anaconda3\\envs\\ml\\lib\\site-packages\\sklearn\\utils\\parallel.py:63\u001b[0m, in \u001b[0;36mParallel.__call__\u001b[1;34m(self, iterable)\u001b[0m\n\u001b[0;32m     58\u001b[0m config \u001b[38;5;241m=\u001b[39m get_config()\n\u001b[0;32m     59\u001b[0m iterable_with_config \u001b[38;5;241m=\u001b[39m (\n\u001b[0;32m     60\u001b[0m     (_with_config(delayed_func, config), args, kwargs)\n\u001b[0;32m     61\u001b[0m     \u001b[38;5;28;01mfor\u001b[39;00m delayed_func, args, kwargs \u001b[38;5;129;01min\u001b[39;00m iterable\n\u001b[0;32m     62\u001b[0m )\n\u001b[1;32m---> 63\u001b[0m \u001b[38;5;28;01mreturn\u001b[39;00m \u001b[38;5;28;43msuper\u001b[39;49m\u001b[43m(\u001b[49m\u001b[43m)\u001b[49m\u001b[38;5;241;43m.\u001b[39;49m\u001b[38;5;21;43m__call__\u001b[39;49m\u001b[43m(\u001b[49m\u001b[43miterable_with_config\u001b[49m\u001b[43m)\u001b[49m\n",
      "File \u001b[1;32m~\\anaconda3\\envs\\ml\\lib\\site-packages\\joblib\\parallel.py:1088\u001b[0m, in \u001b[0;36mParallel.__call__\u001b[1;34m(self, iterable)\u001b[0m\n\u001b[0;32m   1085\u001b[0m \u001b[38;5;28;01mif\u001b[39;00m \u001b[38;5;28mself\u001b[39m\u001b[38;5;241m.\u001b[39mdispatch_one_batch(iterator):\n\u001b[0;32m   1086\u001b[0m     \u001b[38;5;28mself\u001b[39m\u001b[38;5;241m.\u001b[39m_iterating \u001b[38;5;241m=\u001b[39m \u001b[38;5;28mself\u001b[39m\u001b[38;5;241m.\u001b[39m_original_iterator \u001b[38;5;129;01mis\u001b[39;00m \u001b[38;5;129;01mnot\u001b[39;00m \u001b[38;5;28;01mNone\u001b[39;00m\n\u001b[1;32m-> 1088\u001b[0m \u001b[38;5;28;01mwhile\u001b[39;00m \u001b[38;5;28;43mself\u001b[39;49m\u001b[38;5;241;43m.\u001b[39;49m\u001b[43mdispatch_one_batch\u001b[49m\u001b[43m(\u001b[49m\u001b[43miterator\u001b[49m\u001b[43m)\u001b[49m:\n\u001b[0;32m   1089\u001b[0m     \u001b[38;5;28;01mpass\u001b[39;00m\n\u001b[0;32m   1091\u001b[0m \u001b[38;5;28;01mif\u001b[39;00m pre_dispatch \u001b[38;5;241m==\u001b[39m \u001b[38;5;124m\"\u001b[39m\u001b[38;5;124mall\u001b[39m\u001b[38;5;124m\"\u001b[39m \u001b[38;5;129;01mor\u001b[39;00m n_jobs \u001b[38;5;241m==\u001b[39m \u001b[38;5;241m1\u001b[39m:\n\u001b[0;32m   1092\u001b[0m     \u001b[38;5;66;03m# The iterable was consumed all at once by the above for loop.\u001b[39;00m\n\u001b[0;32m   1093\u001b[0m     \u001b[38;5;66;03m# No need to wait for async callbacks to trigger to\u001b[39;00m\n\u001b[0;32m   1094\u001b[0m     \u001b[38;5;66;03m# consumption.\u001b[39;00m\n",
      "File \u001b[1;32m~\\anaconda3\\envs\\ml\\lib\\site-packages\\joblib\\parallel.py:901\u001b[0m, in \u001b[0;36mParallel.dispatch_one_batch\u001b[1;34m(self, iterator)\u001b[0m\n\u001b[0;32m    899\u001b[0m     \u001b[38;5;28;01mreturn\u001b[39;00m \u001b[38;5;28;01mFalse\u001b[39;00m\n\u001b[0;32m    900\u001b[0m \u001b[38;5;28;01melse\u001b[39;00m:\n\u001b[1;32m--> 901\u001b[0m     \u001b[38;5;28;43mself\u001b[39;49m\u001b[38;5;241;43m.\u001b[39;49m\u001b[43m_dispatch\u001b[49m\u001b[43m(\u001b[49m\u001b[43mtasks\u001b[49m\u001b[43m)\u001b[49m\n\u001b[0;32m    902\u001b[0m     \u001b[38;5;28;01mreturn\u001b[39;00m \u001b[38;5;28;01mTrue\u001b[39;00m\n",
      "File \u001b[1;32m~\\anaconda3\\envs\\ml\\lib\\site-packages\\joblib\\parallel.py:819\u001b[0m, in \u001b[0;36mParallel._dispatch\u001b[1;34m(self, batch)\u001b[0m\n\u001b[0;32m    817\u001b[0m \u001b[38;5;28;01mwith\u001b[39;00m \u001b[38;5;28mself\u001b[39m\u001b[38;5;241m.\u001b[39m_lock:\n\u001b[0;32m    818\u001b[0m     job_idx \u001b[38;5;241m=\u001b[39m \u001b[38;5;28mlen\u001b[39m(\u001b[38;5;28mself\u001b[39m\u001b[38;5;241m.\u001b[39m_jobs)\n\u001b[1;32m--> 819\u001b[0m     job \u001b[38;5;241m=\u001b[39m \u001b[38;5;28;43mself\u001b[39;49m\u001b[38;5;241;43m.\u001b[39;49m\u001b[43m_backend\u001b[49m\u001b[38;5;241;43m.\u001b[39;49m\u001b[43mapply_async\u001b[49m\u001b[43m(\u001b[49m\u001b[43mbatch\u001b[49m\u001b[43m,\u001b[49m\u001b[43m \u001b[49m\u001b[43mcallback\u001b[49m\u001b[38;5;241;43m=\u001b[39;49m\u001b[43mcb\u001b[49m\u001b[43m)\u001b[49m\n\u001b[0;32m    820\u001b[0m     \u001b[38;5;66;03m# A job can complete so quickly than its callback is\u001b[39;00m\n\u001b[0;32m    821\u001b[0m     \u001b[38;5;66;03m# called before we get here, causing self._jobs to\u001b[39;00m\n\u001b[0;32m    822\u001b[0m     \u001b[38;5;66;03m# grow. To ensure correct results ordering, .insert is\u001b[39;00m\n\u001b[0;32m    823\u001b[0m     \u001b[38;5;66;03m# used (rather than .append) in the following line\u001b[39;00m\n\u001b[0;32m    824\u001b[0m     \u001b[38;5;28mself\u001b[39m\u001b[38;5;241m.\u001b[39m_jobs\u001b[38;5;241m.\u001b[39minsert(job_idx, job)\n",
      "File \u001b[1;32m~\\anaconda3\\envs\\ml\\lib\\site-packages\\joblib\\_parallel_backends.py:208\u001b[0m, in \u001b[0;36mSequentialBackend.apply_async\u001b[1;34m(self, func, callback)\u001b[0m\n\u001b[0;32m    206\u001b[0m \u001b[38;5;28;01mdef\u001b[39;00m \u001b[38;5;21mapply_async\u001b[39m(\u001b[38;5;28mself\u001b[39m, func, callback\u001b[38;5;241m=\u001b[39m\u001b[38;5;28;01mNone\u001b[39;00m):\n\u001b[0;32m    207\u001b[0m \u001b[38;5;250m    \u001b[39m\u001b[38;5;124;03m\"\"\"Schedule a func to be run\"\"\"\u001b[39;00m\n\u001b[1;32m--> 208\u001b[0m     result \u001b[38;5;241m=\u001b[39m \u001b[43mImmediateResult\u001b[49m\u001b[43m(\u001b[49m\u001b[43mfunc\u001b[49m\u001b[43m)\u001b[49m\n\u001b[0;32m    209\u001b[0m     \u001b[38;5;28;01mif\u001b[39;00m callback:\n\u001b[0;32m    210\u001b[0m         callback(result)\n",
      "File \u001b[1;32m~\\anaconda3\\envs\\ml\\lib\\site-packages\\joblib\\_parallel_backends.py:597\u001b[0m, in \u001b[0;36mImmediateResult.__init__\u001b[1;34m(self, batch)\u001b[0m\n\u001b[0;32m    594\u001b[0m \u001b[38;5;28;01mdef\u001b[39;00m \u001b[38;5;21m__init__\u001b[39m(\u001b[38;5;28mself\u001b[39m, batch):\n\u001b[0;32m    595\u001b[0m     \u001b[38;5;66;03m# Don't delay the application, to avoid keeping the input\u001b[39;00m\n\u001b[0;32m    596\u001b[0m     \u001b[38;5;66;03m# arguments in memory\u001b[39;00m\n\u001b[1;32m--> 597\u001b[0m     \u001b[38;5;28mself\u001b[39m\u001b[38;5;241m.\u001b[39mresults \u001b[38;5;241m=\u001b[39m \u001b[43mbatch\u001b[49m\u001b[43m(\u001b[49m\u001b[43m)\u001b[49m\n",
      "File \u001b[1;32m~\\anaconda3\\envs\\ml\\lib\\site-packages\\joblib\\parallel.py:288\u001b[0m, in \u001b[0;36mBatchedCalls.__call__\u001b[1;34m(self)\u001b[0m\n\u001b[0;32m    284\u001b[0m \u001b[38;5;28;01mdef\u001b[39;00m \u001b[38;5;21m__call__\u001b[39m(\u001b[38;5;28mself\u001b[39m):\n\u001b[0;32m    285\u001b[0m     \u001b[38;5;66;03m# Set the default nested backend to self._backend but do not set the\u001b[39;00m\n\u001b[0;32m    286\u001b[0m     \u001b[38;5;66;03m# change the default number of processes to -1\u001b[39;00m\n\u001b[0;32m    287\u001b[0m     \u001b[38;5;28;01mwith\u001b[39;00m parallel_backend(\u001b[38;5;28mself\u001b[39m\u001b[38;5;241m.\u001b[39m_backend, n_jobs\u001b[38;5;241m=\u001b[39m\u001b[38;5;28mself\u001b[39m\u001b[38;5;241m.\u001b[39m_n_jobs):\n\u001b[1;32m--> 288\u001b[0m         \u001b[38;5;28;01mreturn\u001b[39;00m [func(\u001b[38;5;241m*\u001b[39margs, \u001b[38;5;241m*\u001b[39m\u001b[38;5;241m*\u001b[39mkwargs)\n\u001b[0;32m    289\u001b[0m                 \u001b[38;5;28;01mfor\u001b[39;00m func, args, kwargs \u001b[38;5;129;01min\u001b[39;00m \u001b[38;5;28mself\u001b[39m\u001b[38;5;241m.\u001b[39mitems]\n",
      "File \u001b[1;32m~\\anaconda3\\envs\\ml\\lib\\site-packages\\joblib\\parallel.py:288\u001b[0m, in \u001b[0;36m<listcomp>\u001b[1;34m(.0)\u001b[0m\n\u001b[0;32m    284\u001b[0m \u001b[38;5;28;01mdef\u001b[39;00m \u001b[38;5;21m__call__\u001b[39m(\u001b[38;5;28mself\u001b[39m):\n\u001b[0;32m    285\u001b[0m     \u001b[38;5;66;03m# Set the default nested backend to self._backend but do not set the\u001b[39;00m\n\u001b[0;32m    286\u001b[0m     \u001b[38;5;66;03m# change the default number of processes to -1\u001b[39;00m\n\u001b[0;32m    287\u001b[0m     \u001b[38;5;28;01mwith\u001b[39;00m parallel_backend(\u001b[38;5;28mself\u001b[39m\u001b[38;5;241m.\u001b[39m_backend, n_jobs\u001b[38;5;241m=\u001b[39m\u001b[38;5;28mself\u001b[39m\u001b[38;5;241m.\u001b[39m_n_jobs):\n\u001b[1;32m--> 288\u001b[0m         \u001b[38;5;28;01mreturn\u001b[39;00m [func(\u001b[38;5;241m*\u001b[39margs, \u001b[38;5;241m*\u001b[39m\u001b[38;5;241m*\u001b[39mkwargs)\n\u001b[0;32m    289\u001b[0m                 \u001b[38;5;28;01mfor\u001b[39;00m func, args, kwargs \u001b[38;5;129;01min\u001b[39;00m \u001b[38;5;28mself\u001b[39m\u001b[38;5;241m.\u001b[39mitems]\n",
      "File \u001b[1;32m~\\anaconda3\\envs\\ml\\lib\\site-packages\\sklearn\\utils\\parallel.py:123\u001b[0m, in \u001b[0;36m_FuncWrapper.__call__\u001b[1;34m(self, *args, **kwargs)\u001b[0m\n\u001b[0;32m    121\u001b[0m     config \u001b[38;5;241m=\u001b[39m {}\n\u001b[0;32m    122\u001b[0m \u001b[38;5;28;01mwith\u001b[39;00m config_context(\u001b[38;5;241m*\u001b[39m\u001b[38;5;241m*\u001b[39mconfig):\n\u001b[1;32m--> 123\u001b[0m     \u001b[38;5;28;01mreturn\u001b[39;00m \u001b[38;5;28mself\u001b[39m\u001b[38;5;241m.\u001b[39mfunction(\u001b[38;5;241m*\u001b[39margs, \u001b[38;5;241m*\u001b[39m\u001b[38;5;241m*\u001b[39mkwargs)\n",
      "File \u001b[1;32m~\\anaconda3\\envs\\ml\\lib\\site-packages\\sklearn\\ensemble\\_forest.py:184\u001b[0m, in \u001b[0;36m_parallel_build_trees\u001b[1;34m(tree, bootstrap, X, y, sample_weight, tree_idx, n_trees, verbose, class_weight, n_samples_bootstrap)\u001b[0m\n\u001b[0;32m    181\u001b[0m     \u001b[38;5;28;01melif\u001b[39;00m class_weight \u001b[38;5;241m==\u001b[39m \u001b[38;5;124m\"\u001b[39m\u001b[38;5;124mbalanced_subsample\u001b[39m\u001b[38;5;124m\"\u001b[39m:\n\u001b[0;32m    182\u001b[0m         curr_sample_weight \u001b[38;5;241m*\u001b[39m\u001b[38;5;241m=\u001b[39m compute_sample_weight(\u001b[38;5;124m\"\u001b[39m\u001b[38;5;124mbalanced\u001b[39m\u001b[38;5;124m\"\u001b[39m, y, indices\u001b[38;5;241m=\u001b[39mindices)\n\u001b[1;32m--> 184\u001b[0m     \u001b[43mtree\u001b[49m\u001b[38;5;241;43m.\u001b[39;49m\u001b[43mfit\u001b[49m\u001b[43m(\u001b[49m\u001b[43mX\u001b[49m\u001b[43m,\u001b[49m\u001b[43m \u001b[49m\u001b[43my\u001b[49m\u001b[43m,\u001b[49m\u001b[43m \u001b[49m\u001b[43msample_weight\u001b[49m\u001b[38;5;241;43m=\u001b[39;49m\u001b[43mcurr_sample_weight\u001b[49m\u001b[43m,\u001b[49m\u001b[43m \u001b[49m\u001b[43mcheck_input\u001b[49m\u001b[38;5;241;43m=\u001b[39;49m\u001b[38;5;28;43;01mFalse\u001b[39;49;00m\u001b[43m)\u001b[49m\n\u001b[0;32m    185\u001b[0m \u001b[38;5;28;01melse\u001b[39;00m:\n\u001b[0;32m    186\u001b[0m     tree\u001b[38;5;241m.\u001b[39mfit(X, y, sample_weight\u001b[38;5;241m=\u001b[39msample_weight, check_input\u001b[38;5;241m=\u001b[39m\u001b[38;5;28;01mFalse\u001b[39;00m)\n",
      "File \u001b[1;32m~\\anaconda3\\envs\\ml\\lib\\site-packages\\sklearn\\tree\\_classes.py:1247\u001b[0m, in \u001b[0;36mDecisionTreeRegressor.fit\u001b[1;34m(self, X, y, sample_weight, check_input)\u001b[0m\n\u001b[0;32m   1218\u001b[0m \u001b[38;5;28;01mdef\u001b[39;00m \u001b[38;5;21mfit\u001b[39m(\u001b[38;5;28mself\u001b[39m, X, y, sample_weight\u001b[38;5;241m=\u001b[39m\u001b[38;5;28;01mNone\u001b[39;00m, check_input\u001b[38;5;241m=\u001b[39m\u001b[38;5;28;01mTrue\u001b[39;00m):\n\u001b[0;32m   1219\u001b[0m \u001b[38;5;250m    \u001b[39m\u001b[38;5;124;03m\"\"\"Build a decision tree regressor from the training set (X, y).\u001b[39;00m\n\u001b[0;32m   1220\u001b[0m \n\u001b[0;32m   1221\u001b[0m \u001b[38;5;124;03m    Parameters\u001b[39;00m\n\u001b[1;32m   (...)\u001b[0m\n\u001b[0;32m   1244\u001b[0m \u001b[38;5;124;03m        Fitted estimator.\u001b[39;00m\n\u001b[0;32m   1245\u001b[0m \u001b[38;5;124;03m    \"\"\"\u001b[39;00m\n\u001b[1;32m-> 1247\u001b[0m     \u001b[38;5;28;43msuper\u001b[39;49m\u001b[43m(\u001b[49m\u001b[43m)\u001b[49m\u001b[38;5;241;43m.\u001b[39;49m\u001b[43mfit\u001b[49m\u001b[43m(\u001b[49m\n\u001b[0;32m   1248\u001b[0m \u001b[43m        \u001b[49m\u001b[43mX\u001b[49m\u001b[43m,\u001b[49m\n\u001b[0;32m   1249\u001b[0m \u001b[43m        \u001b[49m\u001b[43my\u001b[49m\u001b[43m,\u001b[49m\n\u001b[0;32m   1250\u001b[0m \u001b[43m        \u001b[49m\u001b[43msample_weight\u001b[49m\u001b[38;5;241;43m=\u001b[39;49m\u001b[43msample_weight\u001b[49m\u001b[43m,\u001b[49m\n\u001b[0;32m   1251\u001b[0m \u001b[43m        \u001b[49m\u001b[43mcheck_input\u001b[49m\u001b[38;5;241;43m=\u001b[39;49m\u001b[43mcheck_input\u001b[49m\u001b[43m,\u001b[49m\n\u001b[0;32m   1252\u001b[0m \u001b[43m    \u001b[49m\u001b[43m)\u001b[49m\n\u001b[0;32m   1253\u001b[0m     \u001b[38;5;28;01mreturn\u001b[39;00m \u001b[38;5;28mself\u001b[39m\n",
      "File \u001b[1;32m~\\anaconda3\\envs\\ml\\lib\\site-packages\\sklearn\\tree\\_classes.py:379\u001b[0m, in \u001b[0;36mBaseDecisionTree.fit\u001b[1;34m(self, X, y, sample_weight, check_input)\u001b[0m\n\u001b[0;32m    368\u001b[0m \u001b[38;5;28;01melse\u001b[39;00m:\n\u001b[0;32m    369\u001b[0m     builder \u001b[38;5;241m=\u001b[39m BestFirstTreeBuilder(\n\u001b[0;32m    370\u001b[0m         splitter,\n\u001b[0;32m    371\u001b[0m         min_samples_split,\n\u001b[1;32m   (...)\u001b[0m\n\u001b[0;32m    376\u001b[0m         \u001b[38;5;28mself\u001b[39m\u001b[38;5;241m.\u001b[39mmin_impurity_decrease,\n\u001b[0;32m    377\u001b[0m     )\n\u001b[1;32m--> 379\u001b[0m \u001b[43mbuilder\u001b[49m\u001b[38;5;241;43m.\u001b[39;49m\u001b[43mbuild\u001b[49m\u001b[43m(\u001b[49m\u001b[38;5;28;43mself\u001b[39;49m\u001b[38;5;241;43m.\u001b[39;49m\u001b[43mtree_\u001b[49m\u001b[43m,\u001b[49m\u001b[43m \u001b[49m\u001b[43mX\u001b[49m\u001b[43m,\u001b[49m\u001b[43m \u001b[49m\u001b[43my\u001b[49m\u001b[43m,\u001b[49m\u001b[43m \u001b[49m\u001b[43msample_weight\u001b[49m\u001b[43m)\u001b[49m\n\u001b[0;32m    381\u001b[0m \u001b[38;5;28;01mif\u001b[39;00m \u001b[38;5;28mself\u001b[39m\u001b[38;5;241m.\u001b[39mn_outputs_ \u001b[38;5;241m==\u001b[39m \u001b[38;5;241m1\u001b[39m \u001b[38;5;129;01mand\u001b[39;00m is_classifier(\u001b[38;5;28mself\u001b[39m):\n\u001b[0;32m    382\u001b[0m     \u001b[38;5;28mself\u001b[39m\u001b[38;5;241m.\u001b[39mn_classes_ \u001b[38;5;241m=\u001b[39m \u001b[38;5;28mself\u001b[39m\u001b[38;5;241m.\u001b[39mn_classes_[\u001b[38;5;241m0\u001b[39m]\n",
      "\u001b[1;31mKeyboardInterrupt\u001b[0m: "
     ]
    }
   ],
   "source": [
    "# import warnings\n",
    "# warnings.filterwarnings(\"ignore\")\n",
    "\n",
    "# best_score = 0\n",
    "\n",
    "# # Random Forest 모델 정의\n",
    "# model = RandomForestRegressor(\n",
    "#     n_estimators=300,\n",
    "#     max_depth=10,\n",
    "#     min_samples_split=10,\n",
    "#     min_samples_leaf=3\n",
    "# )\n",
    "\n",
    "# model.fit(X_train, y_train)\n",
    "# y_pred = model.predict(X_val)\n",
    "# rmse = np.sqrt(mean_squared_error(y_val, y_pred))\n",
    "\n",
    "# if rmse < best_score:\n",
    "#     best_score = rmse\n",
    "\n",
    "# print(rmse)"
   ]
  },
  {
   "cell_type": "markdown",
   "id": "3ac9360a",
   "metadata": {},
   "source": [
    "시간 넘 많이 걸려서... 스킵합니다..."
   ]
  },
  {
   "cell_type": "markdown",
   "id": "18c6f2fa",
   "metadata": {},
   "source": [
    "#### 4-2-2. XGBoost"
   ]
  },
  {
   "cell_type": "code",
   "execution_count": 55,
   "id": "84bf6a4b",
   "metadata": {
    "ExecuteTime": {
     "end_time": "2023-11-05T06:15:42.280007Z",
     "start_time": "2023-11-05T06:15:37.757141Z"
    }
   },
   "outputs": [
    {
     "name": "stdout",
     "output_type": "stream",
     "text": [
      "모델 성능: 15.983385931653038 [BEST]\n"
     ]
    }
   ],
   "source": [
    "import warnings\n",
    "warnings.filterwarnings(\"ignore\")\n",
    "\n",
    "# XGBoost 모델 정의\n",
    "model = XGBRegressor(\n",
    "    tree_method=\"hist\",\n",
    "    device=\"cuda\",\n",
    "    n_estimators=300,\n",
    "    max_depth=10,\n",
    "    learning_rate=0.1\n",
    ")\n",
    "\n",
    "# 모델 학습 및 추론\n",
    "model.fit(X_train, y_train)\n",
    "y_pred = model.predict(X_val)\n",
    "rmse = np.sqrt(mean_squared_error(y_val, y_pred))\n",
    "\n",
    "# best score 저장\n",
    "best_score = rmse\n",
    "# if rmse < best_score:\n",
    "#     best_score = rmse\n",
    "\n",
    "print(f\"모델 성능: {rmse}\", end=' ')\n",
    "print(\"[BEST]\" if rmse == best_score else \"\")"
   ]
  },
  {
   "cell_type": "code",
   "execution_count": 56,
   "id": "74e87757",
   "metadata": {
    "ExecuteTime": {
     "end_time": "2023-11-05T06:15:51.927886Z",
     "start_time": "2023-11-05T06:15:48.908909Z"
    }
   },
   "outputs": [
    {
     "name": "stdout",
     "output_type": "stream",
     "text": [
      "모델 성능: 15.948014081792167 [BEST]\n"
     ]
    }
   ],
   "source": [
    "# XGBoost 모델 정의 (n_estimators)\n",
    "model = XGBRegressor(\n",
    "    tree_method=\"hist\",\n",
    "    device=\"cuda\",\n",
    "    n_estimators=200,\n",
    "    max_depth=10,\n",
    "    learning_rate=0.1\n",
    ")\n",
    "\n",
    "# 모델 학습 및 추론\n",
    "model.fit(X_train, y_train)\n",
    "y_pred = model.predict(X_val)\n",
    "rmse = np.sqrt(mean_squared_error(y_val, y_pred))\n",
    "\n",
    "# best score 저장\n",
    "if rmse < best_score:\n",
    "    best_score = rmse\n",
    "\n",
    "print(f\"모델 성능: {rmse}\", end=' ')\n",
    "print(\"[BEST]\" if rmse == best_score else \"\")"
   ]
  },
  {
   "cell_type": "code",
   "execution_count": 57,
   "id": "cde1ba5c",
   "metadata": {
    "ExecuteTime": {
     "end_time": "2023-11-05T06:15:57.176302Z",
     "start_time": "2023-11-05T06:15:55.379325Z"
    }
   },
   "outputs": [
    {
     "name": "stdout",
     "output_type": "stream",
     "text": [
      "모델 성능: 15.942823986178759 [BEST]\n"
     ]
    }
   ],
   "source": [
    "# XGBoost 모델 정의 (n_estimators)\n",
    "model = XGBRegressor(\n",
    "    tree_method=\"hist\",\n",
    "    device=\"cuda\",\n",
    "    n_estimators=100,\n",
    "    max_depth=10,\n",
    "    learning_rate=0.1\n",
    ")\n",
    "\n",
    "# 모델 학습 및 추론\n",
    "model.fit(X_train, y_train)\n",
    "y_pred = model.predict(X_val)\n",
    "rmse = np.sqrt(mean_squared_error(y_val, y_pred))\n",
    "\n",
    "# best score 저장\n",
    "if rmse < best_score:\n",
    "    best_score = rmse\n",
    "\n",
    "print(f\"모델 성능: {rmse}\", end=' ')\n",
    "print(\"[BEST]\" if rmse == best_score else \"\")"
   ]
  },
  {
   "cell_type": "code",
   "execution_count": 58,
   "id": "6e41339e",
   "metadata": {
    "ExecuteTime": {
     "end_time": "2023-11-05T06:16:08.706402Z",
     "start_time": "2023-11-05T06:16:07.557492Z"
    }
   },
   "outputs": [
    {
     "name": "stdout",
     "output_type": "stream",
     "text": [
      "모델 성능: 15.988554513033032 \n"
     ]
    }
   ],
   "source": [
    "# XGBoost 모델 정의 (n_estimators)\n",
    "model = XGBRegressor(\n",
    "    tree_method=\"hist\",\n",
    "    device=\"cuda\",\n",
    "    n_estimators=50,\n",
    "    max_depth=10,\n",
    "    learning_rate=0.1\n",
    ")\n",
    "\n",
    "# 모델 학습 및 추론\n",
    "model.fit(X_train, y_train)\n",
    "y_pred = model.predict(X_val)\n",
    "rmse = np.sqrt(mean_squared_error(y_val, y_pred))\n",
    "\n",
    "# best score 저장\n",
    "if rmse < best_score:\n",
    "    best_score = rmse\n",
    "\n",
    "print(f\"모델 성능: {rmse}\", end=' ')\n",
    "print(\"[BEST]\" if rmse == best_score else \"\")"
   ]
  },
  {
   "cell_type": "markdown",
   "id": "f7f8b816",
   "metadata": {},
   "source": [
    "n_estimators = 100으로 고정"
   ]
  },
  {
   "cell_type": "code",
   "execution_count": 59,
   "id": "198bbee4",
   "metadata": {
    "ExecuteTime": {
     "end_time": "2023-11-05T06:16:23.073252Z",
     "start_time": "2023-11-05T06:16:11.539861Z"
    }
   },
   "outputs": [
    {
     "name": "stdout",
     "output_type": "stream",
     "text": [
      "모델 성능: 16.168171829837764 \n"
     ]
    }
   ],
   "source": [
    "# XGBoost 모델 정의 (max_depth)\n",
    "model = XGBRegressor(\n",
    "    tree_method=\"hist\",\n",
    "    device=\"cuda\",\n",
    "    n_estimators=100,\n",
    "    max_depth=15,\n",
    "    learning_rate=0.1\n",
    ")\n",
    "\n",
    "# 모델 학습 및 추론\n",
    "model.fit(X_train, y_train)\n",
    "y_pred = model.predict(X_val)\n",
    "rmse = np.sqrt(mean_squared_error(y_val, y_pred))\n",
    "\n",
    "# best score 저장\n",
    "if rmse < best_score:\n",
    "    best_score = rmse\n",
    "\n",
    "print(f\"모델 성능: {rmse}\", end=' ')\n",
    "print(\"[BEST]\" if rmse == best_score else \"\")"
   ]
  },
  {
   "cell_type": "code",
   "execution_count": 60,
   "id": "d6555649",
   "metadata": {
    "ExecuteTime": {
     "end_time": "2023-11-05T06:16:27.962153Z",
     "start_time": "2023-11-05T06:16:27.093621Z"
    }
   },
   "outputs": [
    {
     "name": "stdout",
     "output_type": "stream",
     "text": [
      "모델 성능: 16.007657985510356 \n"
     ]
    }
   ],
   "source": [
    "# XGBoost 모델 정의 (max_depth)\n",
    "model = XGBRegressor(\n",
    "    tree_method=\"hist\",\n",
    "    device=\"cuda\",\n",
    "    n_estimators=100,\n",
    "    max_depth=8,\n",
    "    learning_rate=0.1\n",
    ")\n",
    "\n",
    "# 모델 학습 및 추론\n",
    "model.fit(X_train, y_train)\n",
    "y_pred = model.predict(X_val)\n",
    "rmse = np.sqrt(mean_squared_error(y_val, y_pred))\n",
    "\n",
    "# best score 저장\n",
    "if rmse < best_score:\n",
    "    best_score = rmse\n",
    "\n",
    "print(f\"모델 성능: {rmse}\", end=' ')\n",
    "print(\"[BEST]\" if rmse == best_score else \"\")"
   ]
  },
  {
   "cell_type": "markdown",
   "id": "acf69518",
   "metadata": {},
   "source": [
    "max_depth = 10으로 고정"
   ]
  },
  {
   "cell_type": "code",
   "execution_count": 61,
   "id": "1063c6ac",
   "metadata": {
    "ExecuteTime": {
     "end_time": "2023-11-05T06:16:33.728863Z",
     "start_time": "2023-11-05T06:16:31.842208Z"
    }
   },
   "outputs": [
    {
     "name": "stdout",
     "output_type": "stream",
     "text": [
      "모델 성능: 17.28333435853386 \n"
     ]
    }
   ],
   "source": [
    "# XGBoost 모델 정의 (learning_rate)\n",
    "model = XGBRegressor(\n",
    "    tree_method=\"hist\",\n",
    "    device=\"cuda\",\n",
    "    n_estimators=100,\n",
    "    max_depth=10,\n",
    "    learning_rate=0.01\n",
    ")\n",
    "\n",
    "# 모델 학습 및 추론\n",
    "model.fit(X_train, y_train)\n",
    "y_pred = model.predict(X_val)\n",
    "rmse = np.sqrt(mean_squared_error(y_val, y_pred))\n",
    "\n",
    "# best score 저장\n",
    "if rmse < best_score:\n",
    "    best_score = rmse\n",
    "\n",
    "print(f\"모델 성능: {rmse}\", end=' ')\n",
    "print(\"[BEST]\" if rmse == best_score else \"\")"
   ]
  },
  {
   "cell_type": "code",
   "execution_count": 62,
   "id": "a2b86083",
   "metadata": {
    "ExecuteTime": {
     "end_time": "2023-11-05T06:16:38.362558Z",
     "start_time": "2023-11-05T06:16:36.708450Z"
    }
   },
   "outputs": [
    {
     "name": "stdout",
     "output_type": "stream",
     "text": [
      "모델 성능: 16.031474288380334 \n"
     ]
    }
   ],
   "source": [
    "# XGBoost 모델 정의 (learning_rate)\n",
    "model = XGBRegressor(\n",
    "    tree_method=\"hist\",\n",
    "    device=\"cuda\",\n",
    "    n_estimators=100,\n",
    "    max_depth=10,\n",
    "    learning_rate=0.15\n",
    ")\n",
    "\n",
    "# 모델 학습 및 추론\n",
    "model.fit(X_train, y_train)\n",
    "y_pred = model.predict(X_val)\n",
    "rmse = np.sqrt(mean_squared_error(y_val, y_pred))\n",
    "\n",
    "# best score 저장\n",
    "if rmse < best_score:\n",
    "    best_score = rmse\n",
    "\n",
    "print(f\"모델 성능: {rmse}\", end=' ')\n",
    "print(\"[BEST]\" if rmse == best_score else \"\")"
   ]
  },
  {
   "cell_type": "code",
   "execution_count": 63,
   "id": "dcf199d5",
   "metadata": {
    "ExecuteTime": {
     "end_time": "2023-11-05T06:16:43.699281Z",
     "start_time": "2023-11-05T06:16:41.964852Z"
    }
   },
   "outputs": [
    {
     "name": "stdout",
     "output_type": "stream",
     "text": [
      "모델 성능: 15.954337282866812 \n"
     ]
    }
   ],
   "source": [
    "# XGBoost 모델 정의 (learning_rate)\n",
    "model = XGBRegressor(\n",
    "    tree_method=\"hist\",\n",
    "    device=\"cuda\",\n",
    "    n_estimators=100,\n",
    "    max_depth=10,\n",
    "    learning_rate=0.12\n",
    ")\n",
    "\n",
    "# 모델 학습 및 추론\n",
    "model.fit(X_train, y_train)\n",
    "y_pred = model.predict(X_val)\n",
    "rmse = np.sqrt(mean_squared_error(y_val, y_pred))\n",
    "\n",
    "# best score 저장\n",
    "if rmse < best_score:\n",
    "    best_score = rmse\n",
    "\n",
    "print(f\"모델 성능: {rmse}\", end=' ')\n",
    "print(\"[BEST]\" if rmse == best_score else \"\")"
   ]
  },
  {
   "cell_type": "code",
   "execution_count": 64,
   "id": "cd4b56a1",
   "metadata": {
    "ExecuteTime": {
     "end_time": "2023-11-05T06:16:48.370005Z",
     "start_time": "2023-11-05T06:16:46.706758Z"
    }
   },
   "outputs": [
    {
     "name": "stdout",
     "output_type": "stream",
     "text": [
      "모델 성능: 15.942823986178759 [BEST]\n"
     ]
    }
   ],
   "source": [
    "# XGBoost 모델 정의 (learning_rate)\n",
    "model = XGBRegressor(\n",
    "    tree_method=\"hist\",\n",
    "    device=\"cuda\",\n",
    "    n_estimators=100,\n",
    "    max_depth=10,\n",
    "    learning_rate=0.1\n",
    ")\n",
    "\n",
    "# 모델 학습 및 추론\n",
    "model.fit(X_train, y_train)\n",
    "y_pred = model.predict(X_val)\n",
    "rmse = np.sqrt(mean_squared_error(y_val, y_pred))\n",
    "\n",
    "# best score 저장\n",
    "if rmse < best_score:\n",
    "    best_score = rmse\n",
    "\n",
    "print(f\"모델 성능: {rmse}\", end=' ')\n",
    "print(\"[BEST]\" if rmse == best_score else \"\")"
   ]
  },
  {
   "cell_type": "markdown",
   "id": "8772eff8",
   "metadata": {},
   "source": [
    "learning_rate = 0.1로 고정\n",
    "\n",
    "최종: n_estimators=100, max_depth=10, learning_rate=0.1"
   ]
  },
  {
   "cell_type": "markdown",
   "id": "1a4957e5",
   "metadata": {},
   "source": [
    "#### 4-2-3. LightGBM"
   ]
  },
  {
   "cell_type": "code",
   "execution_count": 65,
   "id": "418d04c8",
   "metadata": {
    "ExecuteTime": {
     "end_time": "2023-11-05T06:17:38.990824Z",
     "start_time": "2023-11-05T06:17:37.112950Z"
    }
   },
   "outputs": [
    {
     "name": "stdout",
     "output_type": "stream",
     "text": [
      "모델 성능: 16.04303116315253 [BEST]\n"
     ]
    }
   ],
   "source": [
    "# LightGBM 모델 정의\n",
    "model = LGBMRegressor(\n",
    "    verbosity=-1,\n",
    "    device_type='gpu',\n",
    "    n_estimators=300,\n",
    "    max_depth=10,\n",
    "    learning_rate=0.1\n",
    ")\n",
    "\n",
    "# 모델 학습 및 추론\n",
    "model.fit(X_train, y_train)\n",
    "y_pred = model.predict(X_val)\n",
    "rmse = np.sqrt(mean_squared_error(y_val, y_pred))\n",
    "\n",
    "# best score 저장\n",
    "best_score = rmse\n",
    "# if rmse < best_score:\n",
    "#     best_score = rmse\n",
    "\n",
    "print(f\"모델 성능: {rmse}\", end=' ')\n",
    "print(\"[BEST]\" if rmse == best_score else \"\")"
   ]
  },
  {
   "cell_type": "code",
   "execution_count": 66,
   "id": "09de6c01",
   "metadata": {
    "ExecuteTime": {
     "end_time": "2023-11-05T06:17:54.259786Z",
     "start_time": "2023-11-05T06:17:52.348299Z"
    }
   },
   "outputs": [
    {
     "name": "stdout",
     "output_type": "stream",
     "text": [
      "모델 성능: 15.999142551276 [BEST]\n"
     ]
    }
   ],
   "source": [
    "# LightGBM 모델 정의 (n_estimators)\n",
    "model = LGBMRegressor(\n",
    "    verbosity=-1,\n",
    "    device_type='gpu',\n",
    "    n_estimators=500,\n",
    "    max_depth=10,\n",
    "    learning_rate=0.1\n",
    ")\n",
    "\n",
    "# 모델 학습 및 추론\n",
    "model.fit(X_train, y_train)\n",
    "y_pred = model.predict(X_val)\n",
    "rmse = np.sqrt(mean_squared_error(y_val, y_pred))\n",
    "\n",
    "# best score 저장\n",
    "if rmse < best_score:\n",
    "    best_score = rmse\n",
    "\n",
    "print(f\"모델 성능: {rmse}\", end=' ')\n",
    "print(\"[BEST]\" if rmse == best_score else \"\")"
   ]
  },
  {
   "cell_type": "code",
   "execution_count": 67,
   "id": "12490dce",
   "metadata": {
    "ExecuteTime": {
     "end_time": "2023-11-05T06:18:06.869581Z",
     "start_time": "2023-11-05T06:18:04.125044Z"
    }
   },
   "outputs": [
    {
     "name": "stdout",
     "output_type": "stream",
     "text": [
      "모델 성능: 15.973448672999686 [BEST]\n"
     ]
    }
   ],
   "source": [
    "# LightGBM 모델 정의 (n_estimators)\n",
    "model = LGBMRegressor(\n",
    "    verbosity=-1,\n",
    "    device_type='gpu',\n",
    "    n_estimators=700,\n",
    "    max_depth=10,\n",
    "    learning_rate=0.1\n",
    ")\n",
    "\n",
    "# 모델 학습 및 추론\n",
    "model.fit(X_train, y_train)\n",
    "y_pred = model.predict(X_val)\n",
    "rmse = np.sqrt(mean_squared_error(y_val, y_pred))\n",
    "\n",
    "# best score 저장\n",
    "if rmse < best_score:\n",
    "    best_score = rmse\n",
    "\n",
    "print(f\"모델 성능: {rmse}\", end=' ')\n",
    "print(\"[BEST]\" if rmse == best_score else \"\")"
   ]
  },
  {
   "cell_type": "code",
   "execution_count": 68,
   "id": "f53aa9af",
   "metadata": {
    "ExecuteTime": {
     "end_time": "2023-11-05T06:18:18.354814Z",
     "start_time": "2023-11-05T06:18:14.620620Z"
    }
   },
   "outputs": [
    {
     "name": "stdout",
     "output_type": "stream",
     "text": [
      "모델 성능: 15.963961904027164 [BEST]\n"
     ]
    }
   ],
   "source": [
    "# LightGBM 모델 정의 (n_estimators)\n",
    "model = LGBMRegressor(\n",
    "    verbosity=-1,\n",
    "    device_type='gpu',\n",
    "    n_estimators=1000,\n",
    "    max_depth=10,\n",
    "    learning_rate=0.1\n",
    ")\n",
    "\n",
    "# 모델 학습 및 추론\n",
    "model.fit(X_train, y_train)\n",
    "y_pred = model.predict(X_val)\n",
    "rmse = np.sqrt(mean_squared_error(y_val, y_pred))\n",
    "\n",
    "# best score 저장\n",
    "if rmse < best_score:\n",
    "    best_score = rmse\n",
    "\n",
    "print(f\"모델 성능: {rmse}\", end=' ')\n",
    "print(\"[BEST]\" if rmse == best_score else \"\")"
   ]
  },
  {
   "cell_type": "code",
   "execution_count": 72,
   "id": "557893ce",
   "metadata": {
    "ExecuteTime": {
     "end_time": "2023-11-05T06:18:57.840176Z",
     "start_time": "2023-11-05T06:18:53.539995Z"
    }
   },
   "outputs": [
    {
     "name": "stdout",
     "output_type": "stream",
     "text": [
      "모델 성능: 15.96957985393572 \n"
     ]
    }
   ],
   "source": [
    "# LightGBM 모델 정의 (n_estimators)\n",
    "model = LGBMRegressor(\n",
    "    verbosity=-1,\n",
    "    device_type='gpu',\n",
    "    n_estimators=1200,\n",
    "    max_depth=10,\n",
    "    learning_rate=0.1\n",
    ")\n",
    "\n",
    "# 모델 학습 및 추론\n",
    "model.fit(X_train, y_train)\n",
    "y_pred = model.predict(X_val)\n",
    "rmse = np.sqrt(mean_squared_error(y_val, y_pred))\n",
    "\n",
    "# best score 저장\n",
    "if rmse < best_score:\n",
    "    best_score = rmse\n",
    "\n",
    "print(f\"모델 성능: {rmse}\", end=' ')\n",
    "print(\"[BEST]\" if rmse == best_score else \"\")"
   ]
  },
  {
   "cell_type": "markdown",
   "id": "8617790e",
   "metadata": {},
   "source": [
    "n_estimators = 1000으로 고정"
   ]
  },
  {
   "cell_type": "code",
   "execution_count": 77,
   "id": "9b50a529",
   "metadata": {
    "ExecuteTime": {
     "end_time": "2023-11-05T06:19:53.222622Z",
     "start_time": "2023-11-05T06:19:49.508148Z"
    }
   },
   "outputs": [
    {
     "name": "stdout",
     "output_type": "stream",
     "text": [
      "모델 성능: 15.96333670466371 [BEST]\n"
     ]
    }
   ],
   "source": [
    "# LightGBM 모델 정의 (max_depth)\n",
    "model = LGBMRegressor(\n",
    "    verbosity=-1,\n",
    "    device_type='gpu',\n",
    "    n_estimators=1000,\n",
    "    max_depth=11,\n",
    "    learning_rate=0.1\n",
    ")\n",
    "\n",
    "# 모델 학습 및 추론\n",
    "model.fit(X_train, y_train)\n",
    "y_pred = model.predict(X_val)\n",
    "rmse = np.sqrt(mean_squared_error(y_val, y_pred))\n",
    "\n",
    "# best score 저장\n",
    "if rmse < best_score:\n",
    "    best_score = rmse\n",
    "\n",
    "print(f\"모델 성능: {rmse}\", end=' ')\n",
    "print(\"[BEST]\" if rmse == best_score else \"\")"
   ]
  },
  {
   "cell_type": "code",
   "execution_count": 78,
   "id": "de482098",
   "metadata": {
    "ExecuteTime": {
     "end_time": "2023-11-05T06:20:06.334589Z",
     "start_time": "2023-11-05T06:20:02.588890Z"
    }
   },
   "outputs": [
    {
     "name": "stdout",
     "output_type": "stream",
     "text": [
      "모델 성능: 15.987779951911675 \n"
     ]
    }
   ],
   "source": [
    "# LightGBM 모델 정의 (max_depth)\n",
    "model = LGBMRegressor(\n",
    "    verbosity=-1,\n",
    "    device_type='gpu',\n",
    "    n_estimators=1000,\n",
    "    max_depth=12,\n",
    "    learning_rate=0.1\n",
    ")\n",
    "\n",
    "# 모델 학습 및 추론\n",
    "model.fit(X_train, y_train)\n",
    "y_pred = model.predict(X_val)\n",
    "rmse = np.sqrt(mean_squared_error(y_val, y_pred))\n",
    "\n",
    "# best score 저장\n",
    "if rmse < best_score:\n",
    "    best_score = rmse\n",
    "\n",
    "print(f\"모델 성능: {rmse}\", end=' ')\n",
    "print(\"[BEST]\" if rmse == best_score else \"\")"
   ]
  },
  {
   "cell_type": "markdown",
   "id": "de8ad350",
   "metadata": {},
   "source": [
    "max_depth = 12로 고정"
   ]
  },
  {
   "cell_type": "code",
   "execution_count": 79,
   "id": "2341f539",
   "metadata": {
    "ExecuteTime": {
     "end_time": "2023-11-05T06:20:29.259990Z",
     "start_time": "2023-11-05T06:20:24.976082Z"
    }
   },
   "outputs": [
    {
     "name": "stdout",
     "output_type": "stream",
     "text": [
      "모델 성능: 16.166911251847864 \n"
     ]
    }
   ],
   "source": [
    "# LightGBM 모델 정의 (learning_rate)\n",
    "model = LGBMRegressor(\n",
    "    verbosity=-1,\n",
    "    device_type='gpu',\n",
    "    n_estimators=1000,\n",
    "    max_depth=12,\n",
    "    learning_rate=0.01\n",
    ")\n",
    "\n",
    "# 모델 학습 및 추론\n",
    "model.fit(X_train, y_train)\n",
    "y_pred = model.predict(X_val)\n",
    "rmse = np.sqrt(mean_squared_error(y_val, y_pred))\n",
    "\n",
    "# best score 저장\n",
    "if rmse < best_score:\n",
    "    best_score = rmse\n",
    "\n",
    "print(f\"모델 성능: {rmse}\", end=' ')\n",
    "print(\"[BEST]\" if rmse == best_score else \"\")"
   ]
  },
  {
   "cell_type": "code",
   "execution_count": 83,
   "id": "c853280e",
   "metadata": {
    "ExecuteTime": {
     "end_time": "2023-11-05T06:21:03.332501Z",
     "start_time": "2023-11-05T06:20:59.779756Z"
    }
   },
   "outputs": [
    {
     "name": "stdout",
     "output_type": "stream",
     "text": [
      "모델 성능: 16.161880016115823 \n"
     ]
    }
   ],
   "source": [
    "# LightGBM 모델 정의 (learning_rate)\n",
    "model = LGBMRegressor(\n",
    "    verbosity=-1,\n",
    "    device_type='gpu',\n",
    "    n_estimators=1000,\n",
    "    max_depth=12,\n",
    "    learning_rate=0.2\n",
    ")\n",
    "\n",
    "# 모델 학습 및 추론\n",
    "model.fit(X_train, y_train)\n",
    "y_pred = model.predict(X_val)\n",
    "rmse = np.sqrt(mean_squared_error(y_val, y_pred))\n",
    "\n",
    "# best score 저장\n",
    "if rmse < best_score:\n",
    "    best_score = rmse\n",
    "\n",
    "print(f\"모델 성능: {rmse}\", end=' ')\n",
    "print(\"[BEST]\" if rmse == best_score else \"\")"
   ]
  },
  {
   "cell_type": "code",
   "execution_count": 84,
   "id": "c2ad1df6",
   "metadata": {
    "ExecuteTime": {
     "end_time": "2023-11-05T06:21:29.441551Z",
     "start_time": "2023-11-05T06:21:25.748091Z"
    }
   },
   "outputs": [
    {
     "name": "stdout",
     "output_type": "stream",
     "text": [
      "모델 성능: 15.979452846436825 \n"
     ]
    }
   ],
   "source": [
    "# LightGBM 모델 정의 (learning_rate)\n",
    "model = LGBMRegressor(\n",
    "    verbosity=-1,\n",
    "    device_type='gpu',\n",
    "    n_estimators=1000,\n",
    "    max_depth=12,\n",
    "    learning_rate=0.11\n",
    ")\n",
    "\n",
    "# 모델 학습 및 추론\n",
    "model.fit(X_train, y_train)\n",
    "y_pred = model.predict(X_val)\n",
    "rmse = np.sqrt(mean_squared_error(y_val, y_pred))\n",
    "\n",
    "# best score 저장\n",
    "if rmse < best_score:\n",
    "    best_score = rmse\n",
    "\n",
    "print(f\"모델 성능: {rmse}\", end=' ')\n",
    "print(\"[BEST]\" if rmse == best_score else \"\")"
   ]
  },
  {
   "cell_type": "markdown",
   "id": "a489851f",
   "metadata": {},
   "source": [
    "learning_rate = 0.1로 고정\n",
    "\n",
    "최종: n_estimators = 1000, max_depth = 12, learning_rate = 0.11"
   ]
  },
  {
   "cell_type": "markdown",
   "id": "5b2c7130",
   "metadata": {},
   "source": [
    "가장 우월했던 모델은\n",
    "\n",
    "```python\n",
    "XGBRegressor(\n",
    "    tree_method=\"hist\",\n",
    "    device=\"cuda\",\n",
    "    n_estimators=100,\n",
    "    max_depth=10,\n",
    "    learning_rate=0.1\n",
    ")\n",
    "```\n",
    "\n",
    "이다. 사실 랜덤포레스트가 더 좋을 것 같은데 넘 오래 걸려서 포기했다."
   ]
  },
  {
   "cell_type": "markdown",
   "id": "07f8570b",
   "metadata": {},
   "source": [
    "## 5. 모델 추론"
   ]
  },
  {
   "cell_type": "code",
   "execution_count": 86,
   "id": "2327634a",
   "metadata": {
    "ExecuteTime": {
     "end_time": "2023-11-05T06:27:55.041891Z",
     "start_time": "2023-11-05T06:27:54.874547Z"
    }
   },
   "outputs": [
    {
     "data": {
      "text/html": [
       "<div>\n",
       "<style scoped>\n",
       "    .dataframe tbody tr th:only-of-type {\n",
       "        vertical-align: middle;\n",
       "    }\n",
       "\n",
       "    .dataframe tbody tr th {\n",
       "        vertical-align: top;\n",
       "    }\n",
       "\n",
       "    .dataframe thead th {\n",
       "        text-align: right;\n",
       "    }\n",
       "</style>\n",
       "<table border=\"1\" class=\"dataframe\">\n",
       "  <thead>\n",
       "    <tr style=\"text-align: right;\">\n",
       "      <th></th>\n",
       "      <th>id</th>\n",
       "      <th>artists</th>\n",
       "      <th>name</th>\n",
       "      <th>year</th>\n",
       "      <th>acousticness</th>\n",
       "      <th>danceability</th>\n",
       "      <th>duration_ms</th>\n",
       "      <th>energy</th>\n",
       "      <th>explicit</th>\n",
       "      <th>instrumentalness</th>\n",
       "      <th>key</th>\n",
       "      <th>liveness</th>\n",
       "      <th>loudness</th>\n",
       "      <th>mode</th>\n",
       "      <th>release_date</th>\n",
       "      <th>speechiness</th>\n",
       "      <th>tempo</th>\n",
       "      <th>valence</th>\n",
       "    </tr>\n",
       "  </thead>\n",
       "  <tbody>\n",
       "    <tr>\n",
       "      <th>0</th>\n",
       "      <td>6IfByzdeGt3iIsakTp16vz</td>\n",
       "      <td>['Amanda Miguel']</td>\n",
       "      <td>Ámame una Vez Más</td>\n",
       "      <td>1996</td>\n",
       "      <td>0.5210</td>\n",
       "      <td>0.668</td>\n",
       "      <td>266173</td>\n",
       "      <td>0.4520</td>\n",
       "      <td>0</td>\n",
       "      <td>0.000009</td>\n",
       "      <td>9</td>\n",
       "      <td>0.0652</td>\n",
       "      <td>-9.318</td>\n",
       "      <td>1</td>\n",
       "      <td>1996-01-01</td>\n",
       "      <td>0.0314</td>\n",
       "      <td>87.967</td>\n",
       "      <td>0.4340</td>\n",
       "    </tr>\n",
       "    <tr>\n",
       "      <th>1</th>\n",
       "      <td>17TO3XH1slhDyqnwypne06</td>\n",
       "      <td>['Joe Cocker']</td>\n",
       "      <td>Let It Be</td>\n",
       "      <td>1969</td>\n",
       "      <td>0.2300</td>\n",
       "      <td>0.468</td>\n",
       "      <td>300560</td>\n",
       "      <td>0.2800</td>\n",
       "      <td>0</td>\n",
       "      <td>0.005360</td>\n",
       "      <td>0</td>\n",
       "      <td>0.1200</td>\n",
       "      <td>-11.602</td>\n",
       "      <td>1</td>\n",
       "      <td>1969-11-01</td>\n",
       "      <td>0.0291</td>\n",
       "      <td>108.348</td>\n",
       "      <td>0.3460</td>\n",
       "    </tr>\n",
       "    <tr>\n",
       "      <th>2</th>\n",
       "      <td>5chxjST0MfWZPsaHrWgiqe</td>\n",
       "      <td>['Los Bukis']</td>\n",
       "      <td>Sabes</td>\n",
       "      <td>1984</td>\n",
       "      <td>0.0425</td>\n",
       "      <td>0.315</td>\n",
       "      <td>169827</td>\n",
       "      <td>0.5430</td>\n",
       "      <td>0</td>\n",
       "      <td>0.000019</td>\n",
       "      <td>1</td>\n",
       "      <td>0.1420</td>\n",
       "      <td>-11.942</td>\n",
       "      <td>1</td>\n",
       "      <td>1984-01-01</td>\n",
       "      <td>0.0352</td>\n",
       "      <td>158.734</td>\n",
       "      <td>0.4230</td>\n",
       "    </tr>\n",
       "    <tr>\n",
       "      <th>3</th>\n",
       "      <td>4Db6PxFIiK1a6nCEJABTHk</td>\n",
       "      <td>['Depeche Mode']</td>\n",
       "      <td>Master and Servant</td>\n",
       "      <td>1985</td>\n",
       "      <td>0.1050</td>\n",
       "      <td>0.584</td>\n",
       "      <td>229360</td>\n",
       "      <td>0.8660</td>\n",
       "      <td>0</td>\n",
       "      <td>0.001810</td>\n",
       "      <td>10</td>\n",
       "      <td>0.0383</td>\n",
       "      <td>-17.319</td>\n",
       "      <td>0</td>\n",
       "      <td>1985-11-11</td>\n",
       "      <td>0.0401</td>\n",
       "      <td>127.783</td>\n",
       "      <td>0.6950</td>\n",
       "    </tr>\n",
       "    <tr>\n",
       "      <th>4</th>\n",
       "      <td>3MPKTMJIxlORqcxw542HHK</td>\n",
       "      <td>['Naughty By Nature', 'Zhané']</td>\n",
       "      <td>Jamboree (feat. Zhané)</td>\n",
       "      <td>1999</td>\n",
       "      <td>0.0344</td>\n",
       "      <td>0.849</td>\n",
       "      <td>213907</td>\n",
       "      <td>0.6350</td>\n",
       "      <td>1</td>\n",
       "      <td>0.000000</td>\n",
       "      <td>0</td>\n",
       "      <td>0.0820</td>\n",
       "      <td>-9.425</td>\n",
       "      <td>1</td>\n",
       "      <td>1999-04-27</td>\n",
       "      <td>0.2660</td>\n",
       "      <td>92.003</td>\n",
       "      <td>0.8560</td>\n",
       "    </tr>\n",
       "    <tr>\n",
       "      <th>...</th>\n",
       "      <td>...</td>\n",
       "      <td>...</td>\n",
       "      <td>...</td>\n",
       "      <td>...</td>\n",
       "      <td>...</td>\n",
       "      <td>...</td>\n",
       "      <td>...</td>\n",
       "      <td>...</td>\n",
       "      <td>...</td>\n",
       "      <td>...</td>\n",
       "      <td>...</td>\n",
       "      <td>...</td>\n",
       "      <td>...</td>\n",
       "      <td>...</td>\n",
       "      <td>...</td>\n",
       "      <td>...</td>\n",
       "      <td>...</td>\n",
       "      <td>...</td>\n",
       "    </tr>\n",
       "    <tr>\n",
       "      <th>43053</th>\n",
       "      <td>1L0vlG1tEWAA5QPPpoeBez</td>\n",
       "      <td>['Oscar Peterson']</td>\n",
       "      <td>I Love Paris</td>\n",
       "      <td>1959</td>\n",
       "      <td>0.7730</td>\n",
       "      <td>0.740</td>\n",
       "      <td>129387</td>\n",
       "      <td>0.0851</td>\n",
       "      <td>0</td>\n",
       "      <td>0.882000</td>\n",
       "      <td>0</td>\n",
       "      <td>0.1100</td>\n",
       "      <td>-21.219</td>\n",
       "      <td>1</td>\n",
       "      <td>1959</td>\n",
       "      <td>0.0547</td>\n",
       "      <td>142.289</td>\n",
       "      <td>0.3780</td>\n",
       "    </tr>\n",
       "    <tr>\n",
       "      <th>43054</th>\n",
       "      <td>3gh5bl5nBDN6ubcbxltKdr</td>\n",
       "      <td>['Claude Debussy', 'Roger Desormière/Choeurs Y...</td>\n",
       "      <td>Pelléas et Mélisande (2006 Digital Remaster), ...</td>\n",
       "      <td>1941</td>\n",
       "      <td>0.8700</td>\n",
       "      <td>0.129</td>\n",
       "      <td>40893</td>\n",
       "      <td>0.0271</td>\n",
       "      <td>0</td>\n",
       "      <td>0.030800</td>\n",
       "      <td>4</td>\n",
       "      <td>0.3830</td>\n",
       "      <td>-32.022</td>\n",
       "      <td>0</td>\n",
       "      <td>1941</td>\n",
       "      <td>0.0344</td>\n",
       "      <td>97.683</td>\n",
       "      <td>0.0371</td>\n",
       "    </tr>\n",
       "    <tr>\n",
       "      <th>43055</th>\n",
       "      <td>6gVkG8f7ldsQs0jAI8cB4X</td>\n",
       "      <td>['Lenny LeBlanc']</td>\n",
       "      <td>There Is None Like You - Live</td>\n",
       "      <td>1991</td>\n",
       "      <td>0.8220</td>\n",
       "      <td>0.229</td>\n",
       "      <td>208933</td>\n",
       "      <td>0.0890</td>\n",
       "      <td>0</td>\n",
       "      <td>0.000000</td>\n",
       "      <td>2</td>\n",
       "      <td>0.3700</td>\n",
       "      <td>-18.504</td>\n",
       "      <td>1</td>\n",
       "      <td>1991-01-01</td>\n",
       "      <td>0.0376</td>\n",
       "      <td>44.068</td>\n",
       "      <td>0.1730</td>\n",
       "    </tr>\n",
       "    <tr>\n",
       "      <th>43056</th>\n",
       "      <td>6n6OQfBpCgzF9oEg8zhBN7</td>\n",
       "      <td>['Kenny Chesney']</td>\n",
       "      <td>Get Along</td>\n",
       "      <td>2018</td>\n",
       "      <td>0.1010</td>\n",
       "      <td>0.632</td>\n",
       "      <td>199625</td>\n",
       "      <td>0.8040</td>\n",
       "      <td>0</td>\n",
       "      <td>0.000000</td>\n",
       "      <td>7</td>\n",
       "      <td>0.1700</td>\n",
       "      <td>-6.109</td>\n",
       "      <td>1</td>\n",
       "      <td>2018-07-27</td>\n",
       "      <td>0.0503</td>\n",
       "      <td>92.456</td>\n",
       "      <td>0.3500</td>\n",
       "    </tr>\n",
       "    <tr>\n",
       "      <th>43057</th>\n",
       "      <td>6Qwuw0eOeszVlewLpu24gR</td>\n",
       "      <td>['Vance Joy']</td>\n",
       "      <td>I'm with You</td>\n",
       "      <td>2018</td>\n",
       "      <td>0.8050</td>\n",
       "      <td>0.657</td>\n",
       "      <td>239787</td>\n",
       "      <td>0.3960</td>\n",
       "      <td>0</td>\n",
       "      <td>0.000002</td>\n",
       "      <td>7</td>\n",
       "      <td>0.1030</td>\n",
       "      <td>-9.255</td>\n",
       "      <td>1</td>\n",
       "      <td>2018-02-23</td>\n",
       "      <td>0.0293</td>\n",
       "      <td>110.003</td>\n",
       "      <td>0.1150</td>\n",
       "    </tr>\n",
       "  </tbody>\n",
       "</table>\n",
       "<p>43058 rows × 18 columns</p>\n",
       "</div>"
      ],
      "text/plain": [
       "                           id  \\\n",
       "0      6IfByzdeGt3iIsakTp16vz   \n",
       "1      17TO3XH1slhDyqnwypne06   \n",
       "2      5chxjST0MfWZPsaHrWgiqe   \n",
       "3      4Db6PxFIiK1a6nCEJABTHk   \n",
       "4      3MPKTMJIxlORqcxw542HHK   \n",
       "...                       ...   \n",
       "43053  1L0vlG1tEWAA5QPPpoeBez   \n",
       "43054  3gh5bl5nBDN6ubcbxltKdr   \n",
       "43055  6gVkG8f7ldsQs0jAI8cB4X   \n",
       "43056  6n6OQfBpCgzF9oEg8zhBN7   \n",
       "43057  6Qwuw0eOeszVlewLpu24gR   \n",
       "\n",
       "                                                 artists  \\\n",
       "0                                      ['Amanda Miguel']   \n",
       "1                                         ['Joe Cocker']   \n",
       "2                                          ['Los Bukis']   \n",
       "3                                       ['Depeche Mode']   \n",
       "4                         ['Naughty By Nature', 'Zhané']   \n",
       "...                                                  ...   \n",
       "43053                                 ['Oscar Peterson']   \n",
       "43054  ['Claude Debussy', 'Roger Desormière/Choeurs Y...   \n",
       "43055                                  ['Lenny LeBlanc']   \n",
       "43056                                  ['Kenny Chesney']   \n",
       "43057                                      ['Vance Joy']   \n",
       "\n",
       "                                                    name  year  acousticness  \\\n",
       "0                                      Ámame una Vez Más  1996        0.5210   \n",
       "1                                              Let It Be  1969        0.2300   \n",
       "2                                                  Sabes  1984        0.0425   \n",
       "3                                     Master and Servant  1985        0.1050   \n",
       "4                                 Jamboree (feat. Zhané)  1999        0.0344   \n",
       "...                                                  ...   ...           ...   \n",
       "43053                                       I Love Paris  1959        0.7730   \n",
       "43054  Pelléas et Mélisande (2006 Digital Remaster), ...  1941        0.8700   \n",
       "43055                      There Is None Like You - Live  1991        0.8220   \n",
       "43056                                          Get Along  2018        0.1010   \n",
       "43057                                       I'm with You  2018        0.8050   \n",
       "\n",
       "       danceability  duration_ms  energy  explicit  instrumentalness  key  \\\n",
       "0             0.668       266173  0.4520         0          0.000009    9   \n",
       "1             0.468       300560  0.2800         0          0.005360    0   \n",
       "2             0.315       169827  0.5430         0          0.000019    1   \n",
       "3             0.584       229360  0.8660         0          0.001810   10   \n",
       "4             0.849       213907  0.6350         1          0.000000    0   \n",
       "...             ...          ...     ...       ...               ...  ...   \n",
       "43053         0.740       129387  0.0851         0          0.882000    0   \n",
       "43054         0.129        40893  0.0271         0          0.030800    4   \n",
       "43055         0.229       208933  0.0890         0          0.000000    2   \n",
       "43056         0.632       199625  0.8040         0          0.000000    7   \n",
       "43057         0.657       239787  0.3960         0          0.000002    7   \n",
       "\n",
       "       liveness  loudness  mode release_date  speechiness    tempo  valence  \n",
       "0        0.0652    -9.318     1   1996-01-01       0.0314   87.967   0.4340  \n",
       "1        0.1200   -11.602     1   1969-11-01       0.0291  108.348   0.3460  \n",
       "2        0.1420   -11.942     1   1984-01-01       0.0352  158.734   0.4230  \n",
       "3        0.0383   -17.319     0   1985-11-11       0.0401  127.783   0.6950  \n",
       "4        0.0820    -9.425     1   1999-04-27       0.2660   92.003   0.8560  \n",
       "...         ...       ...   ...          ...          ...      ...      ...  \n",
       "43053    0.1100   -21.219     1         1959       0.0547  142.289   0.3780  \n",
       "43054    0.3830   -32.022     0         1941       0.0344   97.683   0.0371  \n",
       "43055    0.3700   -18.504     1   1991-01-01       0.0376   44.068   0.1730  \n",
       "43056    0.1700    -6.109     1   2018-07-27       0.0503   92.456   0.3500  \n",
       "43057    0.1030    -9.255     1   2018-02-23       0.0293  110.003   0.1150  \n",
       "\n",
       "[43058 rows x 18 columns]"
      ]
     },
     "execution_count": 86,
     "metadata": {},
     "output_type": "execute_result"
    }
   ],
   "source": [
    "test_df = pd.read_csv('test.csv')\n",
    "test_df"
   ]
  },
  {
   "cell_type": "code",
   "execution_count": 87,
   "id": "637faf65",
   "metadata": {
    "ExecuteTime": {
     "end_time": "2023-11-05T06:28:44.056258Z",
     "start_time": "2023-11-05T06:28:44.034432Z"
    }
   },
   "outputs": [
    {
     "name": "stdout",
     "output_type": "stream",
     "text": [
      "X:  ['acousticness' 'danceability' 'duration_ms' 'explicit' 'instrumentalness'\n",
      " 'key' 'liveness' 'loudness' 'mode' 'speechiness' 'tempo' 'valence'] (43058, 12)\n"
     ]
    }
   ],
   "source": [
    "X_test = test_df.drop(drop_features, axis=1)\n",
    "\n",
    "print(\"X: \", X_test.columns.values, X_test.shape)"
   ]
  },
  {
   "cell_type": "code",
   "execution_count": 89,
   "id": "56df139f",
   "metadata": {
    "ExecuteTime": {
     "end_time": "2023-11-05T06:30:03.914875Z",
     "start_time": "2023-11-05T06:30:02.195251Z"
    }
   },
   "outputs": [
    {
     "data": {
      "text/plain": [
       "array([41.76883 , 34.33905 , 33.261024, ..., 26.537388, 53.148766,\n",
       "       48.01187 ], dtype=float32)"
      ]
     },
     "execution_count": 89,
     "metadata": {},
     "output_type": "execute_result"
    }
   ],
   "source": [
    "model = XGBRegressor(\n",
    "    tree_method=\"hist\",\n",
    "    device=\"cuda\",\n",
    "    n_estimators=100,\n",
    "    max_depth=10,\n",
    "    learning_rate=0.1\n",
    ")\n",
    "\n",
    "model.fit(X_train, y_train)\n",
    "y_pred = model.predict(X_test)\n",
    "\n",
    "y_pred"
   ]
  },
  {
   "cell_type": "code",
   "execution_count": 98,
   "id": "a9b650c4",
   "metadata": {
    "ExecuteTime": {
     "end_time": "2023-11-05T06:35:30.066768Z",
     "start_time": "2023-11-05T06:35:30.036329Z"
    }
   },
   "outputs": [
    {
     "data": {
      "text/html": [
       "<div>\n",
       "<style scoped>\n",
       "    .dataframe tbody tr th:only-of-type {\n",
       "        vertical-align: middle;\n",
       "    }\n",
       "\n",
       "    .dataframe tbody tr th {\n",
       "        vertical-align: top;\n",
       "    }\n",
       "\n",
       "    .dataframe thead th {\n",
       "        text-align: right;\n",
       "    }\n",
       "</style>\n",
       "<table border=\"1\" class=\"dataframe\">\n",
       "  <thead>\n",
       "    <tr style=\"text-align: right;\">\n",
       "      <th></th>\n",
       "      <th>id</th>\n",
       "      <th>popularity</th>\n",
       "    </tr>\n",
       "  </thead>\n",
       "  <tbody>\n",
       "    <tr>\n",
       "      <th>0</th>\n",
       "      <td>6IfByzdeGt3iIsakTp16vz</td>\n",
       "      <td>41.768829</td>\n",
       "    </tr>\n",
       "    <tr>\n",
       "      <th>1</th>\n",
       "      <td>17TO3XH1slhDyqnwypne06</td>\n",
       "      <td>34.339050</td>\n",
       "    </tr>\n",
       "    <tr>\n",
       "      <th>2</th>\n",
       "      <td>5chxjST0MfWZPsaHrWgiqe</td>\n",
       "      <td>33.261024</td>\n",
       "    </tr>\n",
       "    <tr>\n",
       "      <th>3</th>\n",
       "      <td>4Db6PxFIiK1a6nCEJABTHk</td>\n",
       "      <td>33.384773</td>\n",
       "    </tr>\n",
       "    <tr>\n",
       "      <th>4</th>\n",
       "      <td>3MPKTMJIxlORqcxw542HHK</td>\n",
       "      <td>41.674240</td>\n",
       "    </tr>\n",
       "    <tr>\n",
       "      <th>...</th>\n",
       "      <td>...</td>\n",
       "      <td>...</td>\n",
       "    </tr>\n",
       "    <tr>\n",
       "      <th>43053</th>\n",
       "      <td>1L0vlG1tEWAA5QPPpoeBez</td>\n",
       "      <td>24.908617</td>\n",
       "    </tr>\n",
       "    <tr>\n",
       "      <th>43054</th>\n",
       "      <td>3gh5bl5nBDN6ubcbxltKdr</td>\n",
       "      <td>12.099912</td>\n",
       "    </tr>\n",
       "    <tr>\n",
       "      <th>43055</th>\n",
       "      <td>6gVkG8f7ldsQs0jAI8cB4X</td>\n",
       "      <td>26.537388</td>\n",
       "    </tr>\n",
       "    <tr>\n",
       "      <th>43056</th>\n",
       "      <td>6n6OQfBpCgzF9oEg8zhBN7</td>\n",
       "      <td>53.148766</td>\n",
       "    </tr>\n",
       "    <tr>\n",
       "      <th>43057</th>\n",
       "      <td>6Qwuw0eOeszVlewLpu24gR</td>\n",
       "      <td>48.011871</td>\n",
       "    </tr>\n",
       "  </tbody>\n",
       "</table>\n",
       "<p>43058 rows × 2 columns</p>\n",
       "</div>"
      ],
      "text/plain": [
       "                           id  popularity\n",
       "0      6IfByzdeGt3iIsakTp16vz   41.768829\n",
       "1      17TO3XH1slhDyqnwypne06   34.339050\n",
       "2      5chxjST0MfWZPsaHrWgiqe   33.261024\n",
       "3      4Db6PxFIiK1a6nCEJABTHk   33.384773\n",
       "4      3MPKTMJIxlORqcxw542HHK   41.674240\n",
       "...                       ...         ...\n",
       "43053  1L0vlG1tEWAA5QPPpoeBez   24.908617\n",
       "43054  3gh5bl5nBDN6ubcbxltKdr   12.099912\n",
       "43055  6gVkG8f7ldsQs0jAI8cB4X   26.537388\n",
       "43056  6n6OQfBpCgzF9oEg8zhBN7   53.148766\n",
       "43057  6Qwuw0eOeszVlewLpu24gR   48.011871\n",
       "\n",
       "[43058 rows x 2 columns]"
      ]
     },
     "execution_count": 98,
     "metadata": {},
     "output_type": "execute_result"
    }
   ],
   "source": [
    "result_df = pd.DataFrame({'id': test_df['id'], 'popularity': y_pred})\n",
    "result_df"
   ]
  },
  {
   "cell_type": "code",
   "execution_count": 99,
   "id": "59efe229",
   "metadata": {
    "ExecuteTime": {
     "end_time": "2023-11-05T06:35:31.952516Z",
     "start_time": "2023-11-05T06:35:31.844635Z"
    }
   },
   "outputs": [],
   "source": [
    "result_df.to_csv('spotify_result.csv', index=False)"
   ]
  },
  {
   "cell_type": "markdown",
   "id": "f4675bf5",
   "metadata": {},
   "source": [
    "## 6. 후기"
   ]
  },
  {
   "attachments": {
    "result.png": {
     "image/png": "[encoded data removed]"
    }
   },
   "cell_type": "markdown",
   "id": "bc808a38",
   "metadata": {},
   "source": [
    "제출 결과는 아래와 같다.\n",
    "\n",
    "![result.png](attachment:result.png)\n",
    "\n",
    "리더보드 기준 27위다.\n",
    "\n",
    "아쉬웠던 점은 크게 두 가지다.\n",
    "- 랜덤포레스트 시간 너무 많이 걸린다... GPU 가속이 시급하다.\n",
    "- GridSearch를 이용하고 싶었는데 속도도 훨씬 느려지고 세션이 터지고 그랬다. 결국 손으로 하나씩 해보는 수밖에 없었다."
   ]
  }
 ],
 "metadata": {
  "kernelspec": {
   "display_name": "Python 3 (ipykernel)",
   "language": "python",
   "name": "python3"
  },
  "language_info": {
   "codemirror_mode": {
    "name": "ipython",
    "version": 3
   },
   "file_extension": ".py",
   "mimetype": "text/x-python",
   "name": "python",
   "nbconvert_exporter": "python",
   "pygments_lexer": "ipython3",
   "version": "3.9.16"
  }
 },
 "nbformat": 4,
 "nbformat_minor": 5
}
